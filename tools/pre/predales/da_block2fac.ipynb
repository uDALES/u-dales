{
 "cells": [
  {
   "cell_type": "markdown",
   "metadata": {},
   "source": [
    "# MATLAB pre-processing routine"
   ]
  },
  {
   "cell_type": "markdown",
   "metadata": {},
   "source": [
    "#### _Set the experiment number:_"
   ]
  },
  {
   "cell_type": "code",
   "execution_count": null,
   "metadata": {},
   "outputs": [],
   "source": [
    "expnr = '364';"
   ]
  },
  {
   "cell_type": "markdown",
   "metadata": {},
   "source": [
    "# Setup"
   ]
  },
  {
   "cell_type": "code",
   "execution_count": null,
   "metadata": {},
   "outputs": [],
   "source": [
    "format compact"
   ]
  },
  {
   "cell_type": "code",
   "execution_count": null,
   "metadata": {},
   "outputs": [],
   "source": [
    "% set paths\n",
    "DA_EXPDIR = getenv('DA_EXPDIR');\n",
    "DA_TOPDIR = getenv('DA_TOPDIR');\n",
    "DA_PREDIR = [DA_TOPDIR '/pre-post/pre/'];\n",
    "addpath(genpath(DA_PREDIR));   % add all subdirectories to path\n",
    "exppath = [DA_EXPDIR '/'];"
   ]
  },
  {
   "cell_type": "markdown",
   "metadata": {},
   "source": [
    "## Set directory to save outputs"
   ]
  },
  {
   "cell_type": "code",
   "execution_count": null,
   "metadata": {},
   "outputs": [],
   "source": [
    "% set directory to save output\n",
    "savedir = [DA_EXPDIR '/' expnr '/'];\n",
    "% save new or overwrite\n",
    "saveasnew = false;\n",
    "saveold = true;"
   ]
  },
  {
   "cell_type": "code",
   "execution_count": null,
   "metadata": {},
   "outputs": [],
   "source": [
    "starttime = datetime;\n",
    "\n",
    "if saveold\n",
    "    olddir = [savedir 'old/' datestr(starttime,'yyyy-mm-dd') '-' datestr(starttime,'HH-MM')];\n",
    "    mkdir(olddir)\n",
    "    copyfile(blocksfile, [olddir '/blocks.inp.' expnr])\n",
    "    copyfile([savedir '/xgrid.inp.' expnr], [olddir '/xgrid.inp.' expnr])\n",
    "    copyfile([savedir '/zgrid.inp.' expnr], [olddir '/zgrid.inp.' expnr])\n",
    "end\n",
    "\n",
    "if saveasnew\n",
    "    outputdir = [savedir 'output/' datestr(starttime,'yyyy-mm-dd') '-' datestr(starttime,'HH-MM')];\n",
    "    tempdir = [savedir 'temp/' datestr(starttime,'yyyy-mm-dd') '-' datestr(starttime,'HH-MM')];\n",
    "    mkdir(outputdir)\n",
    "    mkdir(tempdir)\n",
    "else\n",
    "    outputdir = savedir;\n",
    "    tempdir = [savedir 'temp/'];\n",
    "    mkdir(tempdir)\n",
    "end\n",
    "\n",
    "clear starttime"
   ]
  },
  {
   "cell_type": "markdown",
   "metadata": {},
   "source": [
    "## Setup parameters"
   ]
  },
  {
   "cell_type": "code",
   "execution_count": null,
   "metadata": {},
   "outputs": [],
   "source": [
    "source = 1;\n",
    "stretch = 'no';\n",
    "lwritefiles = 1;\n",
    "ltestplot = 1;\n",
    "lhqplot = 0;\n",
    "lradiation = 0;"
   ]
  },
  {
   "cell_type": "code",
   "execution_count": null,
   "metadata": {},
   "outputs": [],
   "source": [
    "%maximum size of floors and bounding walls (cells in each dimension)\n",
    "if lradiation\n",
    "    maxsize = 10; %ADD TO NAMOPTIONS EVENTUALY\n",
    "else\n",
    "    maxsize = inf; \n",
    "end"
   ]
  },
  {
   "cell_type": "code",
   "execution_count": null,
   "metadata": {},
   "outputs": [],
   "source": [
    "solaz = 30; % azimuth angle\n",
    "Z = 45; % zenith angle\n",
    "delta = 0.01; % small adjustment for position of rad corners\n",
    "centerweight = 0.5;\n",
    "cornerweight = (1-centerweight)/4;\n",
    "I = 800; % Direct solar irradiation [W/m2]\n",
    "Dsk = 300; % Diffuse incoming radiation [W/m2]\n",
    "pad=0;"
   ]
  },
  {
   "cell_type": "markdown",
   "metadata": {},
   "source": [
    "---\n",
    "## Read in base configuration"
   ]
  },
  {
   "cell_type": "code",
   "execution_count": null,
   "metadata": {},
   "outputs": [],
   "source": [
    "% read namoptions\n",
    "r = da_pp(expnr,exppath);\n",
    "% read blocks\n",
    "% blocksfile = [DA_EXPDIR '/' expnr '/old-blocks.' expnr];\n",
    "blocksfile = [DA_EXPDIR '/' expnr '/blocks.inp.' expnr];\n",
    "blocks = dlmread(blocksfile,'',2,0);\n",
    "% copyfile(blocksfile, [DA_EXPDIR '/' expnr '/old-blocks.' expnr])"
   ]
  },
  {
   "cell_type": "code",
   "execution_count": null,
   "metadata": {},
   "outputs": [],
   "source": [
    "% recreate matlab variables needed for Ivo's preproc\n",
    "dx = r.xsize/r.imax;\n",
    "dy = r.ysize/r.jtot;\n",
    "dz = r.zsize/r.kmax;\n",
    "dh = r.zsize;\n",
    "dh = 180;\n",
    "ni = r.imax; nj = r.jtot; nk = r.kmax;"
   ]
  },
  {
   "cell_type": "markdown",
   "metadata": {},
   "source": [
    "---\n",
    "## Generate new inps files"
   ]
  },
  {
   "cell_type": "code",
   "execution_count": null,
   "metadata": {},
   "outputs": [],
   "source": [
    "parentdir = DA_PREDIR;\n",
    "cd(parentdir)"
   ]
  },
  {
   "cell_type": "markdown",
   "metadata": {},
   "source": [
    "### Walltypes"
   ]
  },
  {
   "cell_type": "code",
   "execution_count": null,
   "metadata": {},
   "outputs": [],
   "source": [
    "% copy default walltypes\n",
    "copyfile('default/walltypes.inp.xxx',[outputdir '/walltypes.inp.' num2str(expnr)])"
   ]
  },
  {
   "cell_type": "markdown",
   "metadata": {},
   "source": [
    "### Grids"
   ]
  },
  {
   "cell_type": "code",
   "execution_count": null,
   "metadata": {},
   "outputs": [],
   "source": [
    "%% make grids\n",
    "makexygrid\n",
    "makezgrid"
   ]
  },
  {
   "cell_type": "markdown",
   "metadata": {},
   "source": [
    "### Masking matrix with block heights"
   ]
  },
  {
   "cell_type": "code",
   "execution_count": null,
   "metadata": {},
   "outputs": [],
   "source": [
    "%% make matrix with block heights\n",
    "topomask = zeros(nj,ni);\n",
    "topo = zeros(nj,ni);\n",
    "for n = 1:size(blocks,1)\n",
    "    topo(blocks(n,1):blocks(n,2),blocks(n,3):blocks(n,4)) = zh(blocks(n,6)+1);\n",
    "    topomask(blocks(n,1):blocks(n,2),blocks(n,3):blocks(n,4)) = 1;\n",
    "end"
   ]
  },
  {
   "cell_type": "code",
   "execution_count": null,
   "metadata": {},
   "outputs": [],
   "source": [
    "if ~lradiation\n",
    "    \n",
    "    makefacets\n",
    "    block2fac\n",
    "    nwallfcts = 0;\n",
    "    createfloors\n",
    "    \n",
    "else\n",
    "    \n",
    "    makefacets\n",
    "    block2fac\n",
    "    addboundingwalls\n",
    "    createfloors\n",
    "    addboundingwalls\n",
    "    vsolcalc\n",
    "    vfc\n",
    "    rayit\n",
    "    \n",
    "end"
   ]
  },
  {
   "cell_type": "markdown",
   "metadata": {},
   "source": [
    "## ! Now update nblocks and nfcts in namoptions !"
   ]
  },
  {
   "cell_type": "markdown",
   "metadata": {},
   "source": [
    "### Initial temperatures at the wall"
   ]
  },
  {
   "cell_type": "code",
   "execution_count": null,
   "metadata": {},
   "outputs": [],
   "source": [
    "% Manually make Tfacinit\n",
    "Tnew = ones(nfcts,1)*288;\n",
    "fname = [outputdir '/Tfacinit.inp.' expnr];\n",
    "fileID = fopen(fname,'W');\n",
    "fprintf(fileID, '# Initial facet tempereatures in radiative equilibrium\\n');\n",
    "fclose(fileID);\n",
    "dlmwrite(fname,Tnew(:,1),'-append','delimiter',' ','precision','%4f')"
   ]
  },
  {
   "cell_type": "code",
   "execution_count": null,
   "metadata": {},
   "outputs": [],
   "source": [
    "% %% Manually make facetarea\n",
    "% \n",
    "% fname = [outputdir '/facetarea.inp.' num2str(expnr)];\n",
    "% fileID = fopen(fname,'W');\n",
    "% fprintf(fileID, '# area of facets\\n');\n",
    "% fclose(fileID);\n",
    "% dlmwrite(fname,A,'-append','delimiter',' ','precision','%4f')"
   ]
  },
  {
   "cell_type": "code",
   "execution_count": null,
   "metadata": {},
   "outputs": [],
   "source": []
  }
 ],
 "metadata": {
  "kernelspec": {
   "display_name": "Matlab",
   "language": "matlab",
   "name": "matlab"
  },
  "language_info": {
   "codemirror_mode": "octave",
   "file_extension": ".m",
   "help_links": [
    {
     "text": "MetaKernel Magics",
     "url": "https://metakernel.readthedocs.io/en/latest/source/README.html"
    }
   ],
   "mimetype": "text/x-octave",
   "name": "matlab",
   "version": "0.16.2"
  }
 },
 "nbformat": 4,
 "nbformat_minor": 2
}
