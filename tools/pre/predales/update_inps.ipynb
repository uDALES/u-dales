{
 "cells": [
  {
   "cell_type": "markdown",
   "metadata": {},
   "source": [
    "# Script to update inp files for new simulation\n",
    "This script is a basic version of da_inp.m, it does not contain all options, e.g. trees etc. are missing. See da_inp.m for information on how to implement it."
   ]
  },
  {
   "cell_type": "markdown",
   "metadata": {},
   "source": [
    "# Contents\n",
    "[Setup](#Setup)\n",
    "\n",
    "[Update parameters in namoptions](#Update-parameters-in-namoptions)\n",
    "\n",
    "[Update grids](#Update-grids)\n",
    "\n",
    "[Update forcing](#Update-forcing)\n",
    "\n",
    "[Update blocks](#Update-blocks)"
   ]
  },
  {
   "cell_type": "markdown",
   "metadata": {},
   "source": [
    "# Setup"
   ]
  },
  {
   "cell_type": "markdown",
   "metadata": {},
   "source": [
    "##### Set up libaries, paths and data"
   ]
  },
  {
   "cell_type": "code",
   "execution_count": null,
   "metadata": {},
   "outputs": [],
   "source": [
    "%matplotlib inline\n",
    "import sys, os\n",
    "import numpy as np\n",
    "import matplotlib as mpl\n",
    "import matplotlib.pyplot as plt\n",
    "import pprint\n",
    "sys.path.append('predales')\n",
    "import predales as da"
   ]
  },
  {
   "cell_type": "markdown",
   "metadata": {},
   "source": [
    "##### Set the paths"
   ]
  },
  {
   "cell_type": "code",
   "execution_count": null,
   "metadata": {},
   "outputs": [],
   "source": [
    "# set paths\n",
    "projectpath, exppath, workpath, ephemeral = da.tools.environment()  # needs to be adapted if other people use it\n",
    "# set preprocessing directory\n",
    "predir = projectpath + '/pre-post/pre/'\n",
    "# define standard colors\n",
    "light, dark, emphcolors = da.tools.colorschemes()\n",
    "# define additional plot styles\n",
    "linestyles = da.tools.plotstyles()\n",
    "# define the plot style\n",
    "# Can be configured in os.path.join(mpl._get_configdir(), 'stylelib').\n",
    "# Default styles are in os.path.join(mpl.get_data_path(), 'stylelib').\n",
    "mpl.style.use(dark)\n",
    "# mpl.style.use(light)"
   ]
  },
  {
   "cell_type": "markdown",
   "metadata": {},
   "source": [
    "---\n",
    "## Load base configuration"
   ]
  },
  {
   "cell_type": "markdown",
   "metadata": {},
   "source": [
    "#### _Set the experiment number:_"
   ]
  },
  {
   "cell_type": "code",
   "execution_count": null,
   "metadata": {},
   "outputs": [],
   "source": [
    "expnr = '593'"
   ]
  },
  {
   "cell_type": "markdown",
   "metadata": {},
   "source": [
    "##### Get current numoptions"
   ]
  },
  {
   "cell_type": "code",
   "execution_count": null,
   "metadata": {},
   "outputs": [],
   "source": [
    "# get namoptions file\n",
    "inpspath = os.path.join(exppath, expnr, '')\n",
    "namoptions = inpspath + 'namoptions.' + expnr\n",
    "# get namoptions data\n",
    "parameters = da.tools.getparameters(namoptions)\n",
    "# extract to searchable parameter dictionary\n",
    "paralist = da.tools.extractparameters(parameters)\n",
    "# print current parameters\n",
    "pprint.pprint(parameters)"
   ]
  },
  {
   "cell_type": "markdown",
   "metadata": {},
   "source": [
    "[Back to Contents](#Contents)\n",
    "\n",
    "---\n",
    "# Update parameters in namoptions"
   ]
  },
  {
   "cell_type": "code",
   "execution_count": null,
   "metadata": {},
   "outputs": [],
   "source": [
    "changes = {'iexpnr' : int(expnr), 'runtime': 100004, \n",
    "           'tfielddump' : 50000,  'tstatsdump' : 10000, 'trestart' : 10000,\n",
    "           'lydump' : False, 'lytdump' : False}\n",
    "parameters = da.write.namoptions(parameters, changes, namoptions)\n",
    "paralist = da.tools.extractparameters(parameters)  # update paralist\n",
    "# pprint.pprint(parameters)"
   ]
  },
  {
   "cell_type": "markdown",
   "metadata": {},
   "source": [
    "[Back to Contents](#Contents)\n",
    "\n",
    "---\n",
    "# Update grids"
   ]
  },
  {
   "cell_type": "markdown",
   "metadata": {},
   "source": [
    "## Domain size values"
   ]
  },
  {
   "cell_type": "code",
   "execution_count": null,
   "metadata": {},
   "outputs": [],
   "source": [
    "# ## set default values\n",
    "# xsize = 480\n",
    "# ysize = 240\n",
    "# zsize = 180\n",
    "# imax = 240\n",
    "# jtot = 120\n",
    "# kmax = 180\n",
    "\n",
    "## get domain parameters\n",
    "paralist = da.tools.extractparameters(parameters)\n",
    "xsize = paralist['xsize']\n",
    "ysize = paralist['ysize']\n",
    "# zsize = paralist['zsize']\n",
    "zsize = 180\n",
    "imax = paralist['imax']\n",
    "jtot = paralist['jtot']\n",
    "kmax = paralist['kmax']\n",
    "print(\"xsize: \", xsize, \" imax: \", imax)\n",
    "print(\"ysize: \", ysize, \" jtot: \", jtot)\n",
    "print(\"zsize: \", zsize, \" kmax: \", kmax)"
   ]
  },
  {
   "cell_type": "code",
   "execution_count": null,
   "metadata": {},
   "outputs": [],
   "source": [
    "# new grid for Dales code with surface street\n",
    "gridstretching = True\n",
    "\n",
    "# Processing x-grid\n",
    "dx = xsize/imax\n",
    "xedge = np.arange(0, xsize, dx)\n",
    "xcentre = xedge + dx*0.5\n",
    "xgrid = xcentre\n",
    "\n",
    "# Processing y-grid (for plotting only)\n",
    "dy = ysize/jtot\n",
    "yedge = np.arange(0, ysize, dy)\n",
    "ycentre = yedge + dy*0.5\n",
    "ygrid = ycentre\n",
    "\n",
    "# Processing z-grid    \n",
    "dz = zsize/kmax\n",
    "\n",
    "if gridstretching is True:\n",
    "    # Stretch z-grid from n onwards with expansion ratio r\n",
    "    n = round(kmax/2)  # stretch from this index on\n",
    "    r = 1.01  # expansion ratio between stretched cells\n",
    "    \n",
    "    stretch = np.concatenate((np.zeros(n),np.arange(kmax - n)))\n",
    "    expand = [r**i for i in stretch]\n",
    "    dzs = [dz*si for si in expand]\n",
    "    \n",
    "    zedge = np.zeros(kmax)\n",
    "    for i, dzi in enumerate(dzs[:-1]):\n",
    "        zedge[i + 1] = zedge[i] + dzi\n",
    "    zcentre = [ze + dzi*0.5 for ze, dzi in zip(zedge, dzs)]\n",
    "    \n",
    "    newzsize = round((zedge[-1] + dzs[-1]) - zedge[0], 4)\n",
    "\n",
    "else:\n",
    "    zedge = np.arange(0, zsize, dz)\n",
    "    # zedge = np.arange(-dz, zsize-dz, dz)\n",
    "    zcentre = zedge + dz*0.5\n",
    "    # zsize -= dz\n",
    "    dzs = [dz] * kmax\n",
    "    \n",
    "    newzsize = zsize\n",
    "\n",
    "zgrid = zcentre\n",
    "\n",
    "# new z grid\n",
    "print(\"zsize:\\n\", newzsize)\n",
    "print(\"zm:\\n\", zedge)\n",
    "print(\"zt:\\n\", zcentre)\n",
    "# plot the grid, every 10th element\n",
    "for z in zgrid[::10]:\n",
    "    plt.axhline(y=z)\n",
    "plt.show()"
   ]
  },
  {
   "cell_type": "markdown",
   "metadata": {},
   "source": [
    "#### Write new grids to inp file"
   ]
  },
  {
   "cell_type": "code",
   "execution_count": null,
   "metadata": {},
   "outputs": [],
   "source": [
    "# write grid files\n",
    "da.write.gridinp(xgrid, inpspath + 'xgrid.inp.' + expnr, gridname='x-grid')\n",
    "da.write.gridinp(zgrid, inpspath + 'zgrid.inp.' + expnr, gridname='z-grid')\n",
    "# update parameters in namoptions\n",
    "gridchanges = {'xsize': xsize, 'ysize': ysize, 'zsize' : newzsize,\n",
    "               'imax': imax, 'jtot': jtot, 'kmax': kmax}\n",
    "parameters = da.write.namoptions(parameters, gridchanges, namoptions)\n"
   ]
  },
  {
   "cell_type": "markdown",
   "metadata": {},
   "source": [
    "[Back to Contents](#Contents)\n",
    "\n",
    "---\n",
    "# Update forcing"
   ]
  },
  {
   "cell_type": "markdown",
   "metadata": {},
   "source": [
    "## Determine forcing type"
   ]
  },
  {
   "cell_type": "code",
   "execution_count": null,
   "metadata": {},
   "outputs": [],
   "source": [
    "check = 0\n",
    "# # set default values\n",
    "u0 = 2  # inital velocities\n",
    "v0 = 0  \n",
    "# dpdx = 0.0005  # pressure gradients\n",
    "# dpdy = 0\n",
    "# get initial forcing parameters\n",
    "# u0 = parameters['inps']['u0']  # inital velocities\n",
    "# v0 = parameters['inps']['v0']\n",
    "# dpdx = parameters['inps']['dpdx']  # pressure gradients\n",
    "# dpdy = parameters['inps']['dpdy']\n",
    "\n",
    "if (parameters['run']['luflowr'] is True) or (parameters['run']['lvflowr'] is True):\n",
    "    check += 1\n",
    "    print(\"Forcing is constant volume flow rate.\")\n",
    "    # pressure difference\n",
    "    pqx = 0  \n",
    "    pqy = 0\n",
    "    # geostrophic wind\n",
    "    ug = 0  \n",
    "    vg = 0\n",
    "    # initial velocity\n",
    "    if (parameters['run']['luflowr'] is True) and (parameters['run']['lvflowr'] is True):\n",
    "        u = u0  \n",
    "        v = v0\n",
    "    elif parameters['run']['luflowr'] is True:\n",
    "        u = u0\n",
    "        v = 0\n",
    "    elif parameters['run']['lvflowr'] is True:\n",
    "        u = 0\n",
    "        v = v0\n",
    "\n",
    "if parameters['physics']['lprofforc'] is True:\n",
    "    check += 1\n",
    "    print(\"Forcing is 1D geostrophic forcing.\")\n",
    "    # pressure difference\n",
    "    pqx = 0 \n",
    "    pqy = 0\n",
    "    # geostrophic wind\n",
    "    ug = u0 \n",
    "    vg = v0\n",
    "    # initial velocity\n",
    "    u = u0\n",
    "    v = v0\n",
    "\n",
    "if parameters['physics']['lcoriol'] is True:\n",
    "    check += 1\n",
    "    print(\"Forcing is coriolis forcing.\")\n",
    "    # pressure difference\n",
    "    pqx = 0 \n",
    "    pqy = 0\n",
    "    # geostrophic wind\n",
    "    ug = v0  # really??\n",
    "    vg = u0  # really??\n",
    "    # initial velocity\n",
    "    u = u0\n",
    "    v = v0\n",
    "\n",
    "if check == 0:\n",
    "    check += 1\n",
    "    print(\"Forcing is pressure gradient forcing.\")\n",
    "    # pressure difference\n",
    "    pqx = dpdx\n",
    "    pqy = dpdy\n",
    "    # geostrophic wind\n",
    "    ug = 0\n",
    "    vg = 0\n",
    "    # initial velocity\n",
    "    u = u0\n",
    "    v = v0\n",
    "    \n",
    "if check > 1:\n",
    "    raise ValueError(\"More than one forcing specified.\")\n",
    "\n",
    "print(\"Pressure gradients are:\")\n",
    "print(\"dp/dx:\", pqx)\n",
    "print(\"dp/dy:\", pqy)\n",
    "print(\"Geostrophic wind velocities are:\")\n",
    "print(\"ug:\", ug)\n",
    "print(\"vg:\", vg)\n",
    "print(\"Initial wind velocities are:\")\n",
    "print(\"u0:\", u)\n",
    "print(\"v0:\", v)"
   ]
  },
  {
   "cell_type": "markdown",
   "metadata": {},
   "source": [
    "#### Update parameters in namoptions file"
   ]
  },
  {
   "cell_type": "code",
   "execution_count": null,
   "metadata": {},
   "outputs": [],
   "source": [
    "# update parameters in namoptions\n",
    "forcechanges = {'u0': u, 'v0': v, 'dpdx': pqx, 'dpdy': pqy}\n",
    "parameters = da.write.namoptions(parameters, forcechanges, namoptions)"
   ]
  },
  {
   "cell_type": "markdown",
   "metadata": {},
   "source": [
    "## Lscale"
   ]
  },
  {
   "cell_type": "code",
   "execution_count": null,
   "metadata": {},
   "outputs": [],
   "source": [
    "# set default values\n",
    "ws = 0  # subsidence\n",
    "dthlrad = 0  # radiative forcing\n",
    "dqtdxls = 0\n",
    "dqtdyls = 0\n",
    "dqtdtls = 0\n",
    "# ws = parameters['inps']['w_s']  # subsidence\n",
    "# dthlrad = parameters['inps']['R']  # radiative forcing\n",
    "\n",
    "lscales = [[z, ug, vg, pqx, pqy, ws, dqtdxls, dqtdyls, dqtdtls, dthlrad] for z in zgrid]"
   ]
  },
  {
   "cell_type": "markdown",
   "metadata": {},
   "source": [
    "#### Write new lscale inp file"
   ]
  },
  {
   "cell_type": "code",
   "execution_count": null,
   "metadata": {},
   "outputs": [],
   "source": [
    "da.write.lscaleinp(lscales, inpspath + 'lscale.inp.' + expnr)"
   ]
  },
  {
   "cell_type": "markdown",
   "metadata": {},
   "source": [
    "#### Update parameters in namoptions file"
   ]
  },
  {
   "cell_type": "code",
   "execution_count": null,
   "metadata": {},
   "outputs": [],
   "source": [
    "lscalechanges = {'w_s': ws, 'R': dthlrad}\n",
    "parameters = da.write.namoptions(parameters, lscalechanges, namoptions)"
   ]
  },
  {
   "cell_type": "markdown",
   "metadata": {},
   "source": [
    "## Prof"
   ]
  },
  {
   "cell_type": "code",
   "execution_count": null,
   "metadata": {},
   "outputs": [],
   "source": [
    "# set default values\n",
    "thl0 = 288  # temperature at ground level\n",
    "lapse = 0  # lapse rate Ks-1\n",
    "qt0 = 0\n",
    "tke = 0\n",
    "# thl0 = parameters['inps']['thl0']  # temperature at ground level\n",
    "# lapse = parameters['inps']['lapse']  # lapse rate Ks-1\n",
    "\n",
    "if abs(lapse) > 0:  # need to check like that because otherwise 0.0 can trigger loop\n",
    "    thlend = thl0 + lapse*zsize\n",
    "    thl = np.arange(thl0, thlend, lapse*dz)\n",
    "    print(\"Temperature profile with lapse rate.\")\n",
    "else:\n",
    "    thl = [thl0] * kmax\n",
    "    print(\"Constant temperature profile applied.\")\n",
    "    \n",
    "# set inital linear wind profile\n",
    "# is only correct for massflow forcing, not for uinf!\n",
    "\n",
    "# uprof = np.linspace(0, 2*u, kmax)\n",
    "# vprof = np.linspace(0, 2*v, kmax)\n",
    "uinc = [(dzi/(newzsize - dzs[-1]))*u for dzi in dzs]\n",
    "uprof = [round(np.sum(2*uinc[:it]), 8) for it in range(kmax)]\n",
    "vinc = [(dzi/(newzsize - dzs[-1]))*v for dzi in dzs]\n",
    "vprof = [np.sum(2*vinc[:it]) for it in range(kmax)]\n",
    "\n",
    "# uprof = [(u*newzsize/kmax)/dzi for dzi in dzs]\n",
    "# vprof = [(v*newzsize/kmax)/dzi for dzi in dzs]\n",
    "\n",
    "# checks\n",
    "uheights = [ui*dzi for ui, dzi in zip(uprof, dzs)]\n",
    "ubulk = np.sum(uheights)/newzsize\n",
    "\n",
    "vheights = [vi*dzi for vi, dzi in zip(vprof, dzs)]\n",
    "vbulk = np.sum(vheights)/newzsize\n",
    "\n",
    "print(\"Linear velocity profile applied.\")\n",
    "print(\"Average initial velocities u =\", ubulk, \"and v =\", vbulk)\n",
    "uflowrate = ubulk*ysize*newzsize\n",
    "vflowrate = vbulk*ysize*newzsize\n",
    "print(\"uflowrate: \", uflowrate, \"and vflowrate: \", vflowrate)\n",
    "\n",
    "profs = [[z, temp, qt0, u, v, tke] for z, temp, u, v in zip(zgrid, thl, uprof, vprof)]\n",
    "\n",
    "fig = plt.figure()\n",
    "ax1 = fig.add_subplot(1, 2, 1)\n",
    "ax1.plot(uprof, zgrid)\n",
    "ax1.set_xlabel(\"Initial u velocity [m/s]\")\n",
    "ax1.set_ylabel(\"Height [m]\")\n",
    "ax2 = fig.add_subplot(1, 2, 2)\n",
    "ax2.plot(vprof, zgrid)\n",
    "ax2.set_xlabel(\"Initial v velocity [m/s]\")\n",
    "ax2.set_ylabel(\"Height [m]\")\n",
    "plt.tight_layout()\n",
    "plt.show()"
   ]
  },
  {
   "cell_type": "markdown",
   "metadata": {},
   "source": [
    "#### Write new prof inp file"
   ]
  },
  {
   "cell_type": "code",
   "execution_count": null,
   "metadata": {},
   "outputs": [],
   "source": [
    "da.write.profinp(profs, inpspath + 'prof.inp.' + expnr)"
   ]
  },
  {
   "cell_type": "markdown",
   "metadata": {},
   "source": [
    "#### Update parameters in namoptions file"
   ]
  },
  {
   "cell_type": "code",
   "execution_count": null,
   "metadata": {},
   "outputs": [],
   "source": [
    "profchanges = {'thl0': thl0, 'lapse': lapse, \n",
    "               'uflowrate': round(uflowrate), 'vflowrate': round(vflowrate)}\n",
    "parameters = da.write.namoptions(parameters, profchanges, namoptions)"
   ]
  },
  {
   "cell_type": "markdown",
   "metadata": {},
   "source": [
    "[Back to Contents](#Contents)\n",
    "\n",
    "---\n",
    "# Update scalars"
   ]
  },
  {
   "cell_type": "code",
   "execution_count": null,
   "metadata": {},
   "outputs": [],
   "source": [
    "# set default values\n",
    "sc1 = 0\n",
    "sc2 = 0\n",
    "sc3 = 0\n",
    "sc4 = 0\n",
    "\n",
    "scalars = [[z, sc1, sc2, sc3, sc4] for z in zgrid]"
   ]
  },
  {
   "cell_type": "markdown",
   "metadata": {},
   "source": [
    "#### Write new scalar inp file"
   ]
  },
  {
   "cell_type": "code",
   "execution_count": null,
   "metadata": {},
   "outputs": [],
   "source": [
    "da.write.scalarinp(scalars, inpspath + 'scalar.inp.' + expnr)"
   ]
  },
  {
   "cell_type": "markdown",
   "metadata": {},
   "source": [
    "[Back to Contents](#Contents)\n",
    "\n",
    "---\n",
    "# Update blocks"
   ]
  },
  {
   "cell_type": "markdown",
   "metadata": {},
   "source": [
    "#### Get blocks"
   ]
  },
  {
   "cell_type": "code",
   "execution_count": null,
   "metadata": {},
   "outputs": [],
   "source": [
    "blocksfile = inpspath + 'blocks.inp.' + expnr\n",
    "# blocksfile = inpspath + 'old-blocks.' + expnr\n",
    "blocks = da.tools.getblocks(blocksfile)\n",
    "print(\"blocks:\\n\", blocks)"
   ]
  },
  {
   "cell_type": "markdown",
   "metadata": {},
   "source": [
    "## Change resolution/convert to indices"
   ]
  },
  {
   "cell_type": "code",
   "execution_count": null,
   "metadata": {},
   "outputs": [],
   "source": [
    "# convert = np.array([imax/xsize, imax/xsize, jtot/ysize, jtot/ysize, kmax/zsize, kmax/zsize])\n",
    "# block_indices = [block * convert for block in blocks]\n",
    "# block_indices = [list([int(b) for b in block]) for block in block_indices]\n",
    "# # block_indices2 = [[*block[0:4], block[4] - 1, block[5] - 1] for block in block_indices]\n",
    "# print(block_indices)"
   ]
  },
  {
   "cell_type": "markdown",
   "metadata": {},
   "source": [
    "## Show dimensionalised blocks"
   ]
  },
  {
   "cell_type": "code",
   "execution_count": null,
   "metadata": {},
   "outputs": [],
   "source": [
    "dimblocks = da.tools.getdimblocks(blocks, xedge, yedge, zedge)\n",
    "limits=[0, xsize, 0, ysize, 0, zsize/3]\n",
    "# plot\n",
    "fig = plt.figure(figsize=(3*2, 4))\n",
    "# geometry plot\n",
    "ax1 = fig.add_subplot(1, 2, 1, projection='3d')\n",
    "da.plot.blocks3d(dimblocks, ax=ax1, edgecolor='k', \n",
    "                   limits=limits)\n",
    "ax1.xaxis.set_ticks(np.linspace(*limits[0:2], 5))\n",
    "ax1.yaxis.set_ticks(np.linspace(*limits[2:4], 5))\n",
    "ax1.zaxis.set_ticks(np.linspace(*limits[4:6], 4))\n",
    "ax1.set_aspect('equal')\n",
    "ax1.view_init(25, 235)\n",
    "# layout plot\n",
    "ax2 = fig.add_subplot(1, 2, 2)\n",
    "da.plot.layout(dimblocks, ax=ax2, limits=limits[:4])\n",
    "ax2.set_xticks(np.linspace(*limits[0:2], 5))\n",
    "ax2.set_yticks(np.linspace(*limits[2:4], 5))\n",
    "# plt.suptitle(\"Blocks\")\n",
    "plt.tight_layout()\n",
    "plt.show()"
   ]
  },
  {
   "cell_type": "markdown",
   "metadata": {},
   "source": [
    "## Block statistics"
   ]
  },
  {
   "cell_type": "code",
   "execution_count": null,
   "metadata": {},
   "outputs": [],
   "source": [
    "blockstats = da.stats.blockstats(dimblocks, a0=xsize*ysize)\n",
    "print(\"lamda_p = \", blockstats['lp'])\n",
    "print(\"lambda_f = \", blockstats['lf'])\n",
    "print(\"zmax = \", blockstats['zmax'])\n",
    "print(\"zh = \", blockstats['zh'])\n",
    "print(\"sigma_h = \", blockstats['sigma_h'])\n",
    "print(\"no. of blocks: \", blockstats['nblocks'])\n",
    "print(\"Blocks:\\n\", dimblocks)"
   ]
  },
  {
   "cell_type": "markdown",
   "metadata": {},
   "source": [
    "### Update wall types"
   ]
  },
  {
   "cell_type": "code",
   "execution_count": null,
   "metadata": {},
   "outputs": [],
   "source": [
    "walltypes_default = predir + 'default/walltypes.inp.xxx'\n",
    "walltypes_new = inpspath + 'test-walltypes.inp.' + expnr\n",
    "with open(walltypes_default, 'r') as infile, open(walltypes_new, 'a') as outfile:\n",
    "    for line in infile:\n",
    "            outfile.write(line)"
   ]
  },
  {
   "cell_type": "markdown",
   "metadata": {},
   "source": [
    "## Make facets "
   ]
  },
  {
   "cell_type": "markdown",
   "metadata": {},
   "source": [
    "### NEED TO PUT IVO's SCRIPTS HERE"
   ]
  },
  {
   "cell_type": "markdown",
   "metadata": {},
   "source": [
    "#### Write new blocks inp file"
   ]
  },
  {
   "cell_type": "code",
   "execution_count": null,
   "metadata": {},
   "outputs": [],
   "source": [
    "da.write.blocksinp(blocks, inpspath + 'blocks.inp.' + expnr)  # NEEDS TO BE UPDATED"
   ]
  },
  {
   "cell_type": "markdown",
   "metadata": {},
   "source": [
    "---\n",
    "#### Update parameters in namoptions file after facets (MATLAB atm)"
   ]
  },
  {
   "cell_type": "code",
   "execution_count": null,
   "metadata": {},
   "outputs": [],
   "source": [
    "facetchanges = {'nblocks': len(blocks), 'nfcts': 858}\n",
    "parameters = da.write.namoptions(parameters, facetchanges, namoptions)"
   ]
  },
  {
   "cell_type": "code",
   "execution_count": null,
   "metadata": {},
   "outputs": [],
   "source": [
    "pprint.pprint(parameters)"
   ]
  },
  {
   "cell_type": "markdown",
   "metadata": {},
   "source": [
    "[Back to Contents](#Contents)"
   ]
  }
 ],
 "metadata": {
  "kernelspec": {
   "display_name": "Python 3",
   "language": "python",
   "name": "python3"
  },
  "language_info": {
   "codemirror_mode": {
    "name": "ipython",
    "version": 3
   },
   "file_extension": ".py",
   "mimetype": "text/x-python",
   "name": "python",
   "nbconvert_exporter": "python",
   "pygments_lexer": "ipython3",
   "version": "3.6.4"
  }
 },
 "nbformat": 4,
 "nbformat_minor": 2
}
