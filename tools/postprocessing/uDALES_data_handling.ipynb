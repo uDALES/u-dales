{
 "nbformat": 4,
 "nbformat_minor": 2,
 "metadata": {
  "language_info": {
   "name": "python",
   "codemirror_mode": {
    "name": "ipython",
    "version": 3
   },
   "version": "3.6.4"
  },
  "orig_nbformat": 2,
  "file_extension": ".py",
  "mimetype": "text/x-python",
  "name": "python",
  "npconvert_exporter": "python",
  "pygments_lexer": "ipython3",
  "version": 3
 },
 "cells": [
  {
   "cell_type": "markdown",
   "metadata": {},
   "outputs": [],
   "source": [
    "#### Set up libaries"
   ]
  },
  {
   "cell_type": "code",
   "metadata": {},
   "outputs": [],
   "source": [
    "%matplotlib inline\n",
    "import sys, os\n",
    "import matplotlib.pyplot as plt\n",
    "sys.path.append('./u-dales/tools/postprocessing')\n",
    "import postdales as da"
   ]
  },
  {
   "cell_type": "markdown",
   "metadata": {},
   "outputs": [],
   "source": [
    "#### _Specify data path:_"
   ]
  },
  {
   "cell_type": "code",
   "metadata": {},
   "outputs": [],
   "source": [
    "datadir = './outputs/300/'"
   ]
  },
  {
   "cell_type": "markdown",
   "metadata": {},
   "outputs": [],
   "source": [
    "#### Read in netcdf files"
   ]
  },
  {
   "cell_type": "code",
   "metadata": {},
   "outputs": [],
   "source": [
    "# get all netcdf files\n",
    "ncpaths = da.nc.getncpath(datadir)\n",
    "# get netcdf fields\n",
    "ncfields = da.nc.getncdata(ncpaths)\n",
    "# list all avaiable variables\n",
    "da.nc.variables_available(ncfields)"
   ]
  },
  {
   "cell_type": "markdown",
   "metadata": {},
   "outputs": [],
   "source": [
    "#### Read in coordinates"
   ]
  },
  {
   "cell_type": "code",
   "metadata": {},
   "outputs": [],
   "source": [
    "ncfield = da.nc.select_ncfield(ncfields, 'fielddump')\n",
    "coordinates = da.nc.get_coordinates(ncfield)\n",
    "print(coordinates)"
   ]
  },
  {
   "cell_type": "markdown",
   "metadata": {},
   "outputs": [],
   "source": [
    "#### Read in parameters"
   ]
  },
  {
   "cell_type": "code",
   "metadata": {},
   "outputs": [],
   "source": [
    "filename = 'namoptions.300'\n",
    "parameterfile = os.path.join(datadir, filename)\n",
    "namelist = da.inputs.parameters(parameterfile)\n",
    "parameters = da.inputs.extract_f90namelist(namelist)\n",
    "# print(params)"
   ]
  },
  {
   "cell_type": "markdown",
   "metadata": {},
   "outputs": [],
   "source": [
    "#### Read in blocks"
   ]
  },
  {
   "cell_type": "code",
   "metadata": {},
   "outputs": [],
   "source": [
    "filename = 'blocks.inp.300'\n",
    "blocksfile = os.path.join(datadir, filename)\n",
    "blocks = da.inputs.blocks(blocksfile)\n",
    "print(blocks)"
   ]
  },
  {
   "cell_type": "markdown",
   "metadata": {},
   "outputs": [],
   "source": [
    "#### Dimensionalise blocks"
   ]
  },
  {
   "cell_type": "code",
   "metadata": {},
   "outputs": [],
   "source": [
    "# mid cell coordinates\n",
    "xaxis = coordinates['xm']\n",
    "yaxis = coordinates['ym']\n",
    "zaxis = coordinates['zm']\n",
    "dimblocks = da.data.getdimblocks(blocks, xaxis, yaxis, zaxis)\n",
    "print(dimblocks)"
   ]
  },
  {
   "cell_type": "markdown",
   "metadata": {},
   "outputs": [],
   "source": [
    "#### Plot blocks layout"
   ]
  },
  {
   "cell_type": "code",
   "metadata": {},
   "outputs": [],
   "source": [
    "limits = [xaxis[0], xaxis[-1], yaxis[0], yaxis[-1], zaxis[0], zaxis[-1]]\n",
    "da.plot.blocks3d(dimblocks, limits=limits)"
   ]
  },
  {
   "cell_type": "markdown",
   "metadata": {},
   "outputs": [],
   "source": [
    "## Exp object for data handling"
   ]
  },
  {
   "cell_type": "markdown",
   "metadata": {},
   "outputs": [],
   "source": [
    "#### Create new Exp object"
   ]
  },
  {
   "cell_type": "code",
   "metadata": {},
   "outputs": [],
   "source": [
    "exp = da.experiments.Exp('300')"
   ]
  },
  {
   "cell_type": "markdown",
   "metadata": {},
   "outputs": [],
   "source": [
    "#### Add dimensional blocks"
   ]
  },
  {
   "cell_type": "code",
   "metadata": {},
   "outputs": [],
   "source": [
    "exp.add('blocks', dimblocks)"
   ]
  },
  {
   "cell_type": "markdown",
   "metadata": {},
   "outputs": [],
   "source": [
    "#### Add parameters from namoptions"
   ]
  },
  {
   "cell_type": "code",
   "metadata": {},
   "outputs": [],
   "source": [
    "for key, val in parameters.items():\n",
    "    exp.add(key, val, 'parameters')"
   ]
  },
  {
   "cell_type": "markdown",
   "metadata": {},
   "outputs": [],
   "source": [
    "#### Add coordinate axes"
   ]
  },
  {
   "cell_type": "code",
   "metadata": {},
   "outputs": [],
   "source": [
    "for key, val in coordinates.items():\n",
    "    exp.add(key, val, 'data')"
   ]
  },
  {
   "cell_type": "markdown",
   "metadata": {},
   "outputs": [],
   "source": [
    "#### Read in and store some variables"
   ]
  },
  {
   "cell_type": "code",
   "metadata": {},
   "outputs": [],
   "source": [
    "fieldname = 'xytdump'\n",
    "ncfield = da.nc.select_ncfield(ncfields, fieldname)\n",
    "select_variables = {'uav' : 'uxyt', 'turbflux' : 'upwpxyt'}\n",
    "for varname, varref in select_variables.items():\n",
    "    var = da.nc.select_variable(varref, ncfield)\n",
    "    exp.add(varname, var, 'data')"
   ]
  },
  {
   "cell_type": "code",
   "metadata": {},
   "outputs": [],
   "source": [
    "exp.show(level='keys')"
   ]
  },
  {
   "cell_type": "markdown",
   "metadata": {},
   "outputs": [],
   "source": [
    "---\n",
    "## Save data"
   ]
  },
  {
   "cell_type": "markdown",
   "metadata": {},
   "outputs": [],
   "source": [
    "#### Delete large netCDFs from exp and convert small ones to numpy arrays. Then save the data"
   ]
  },
  {
   "cell_type": "code",
   "metadata": {},
   "outputs": [],
   "source": [
    "exp = da.experiments.netcdf_handling(exp, maxdim=2)\n",
    "exp.save('./outputs/300/exp.pkl')"
   ]
  },
  {
   "cell_type": "markdown",
   "metadata": {},
   "outputs": [],
   "source": [
    "#### Load saved exp objects"
   ]
  },
  {
   "cell_type": "code",
   "metadata": {},
   "outputs": [],
   "source": [
    "expsaved = da.experiments.load_saved_exp('./outputs/300/exp.pkl')\n",
    "expsaved.show('content')"
   ]
  },
  {
   "cell_type": "code",
   "metadata": {},
   "outputs": [],
   "source": []
  }
 ]
}