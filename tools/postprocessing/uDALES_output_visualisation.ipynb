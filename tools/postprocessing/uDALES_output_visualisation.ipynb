{
 "cells": [
  {
   "cell_type": "markdown",
   "metadata": {},
   "outputs": [],
   "source": [
    "#### Set up libaries"
   ]
  },
  {
   "cell_type": "code",
   "metadata": {},
   "outputs": [],
   "source": [
    "%matplotlib inline\n",
    "import sys, os\n",
    "import matplotlib.pyplot as plt\n",
    "sys.path.append('./u-dales/tools/postprocessing')\n",
    "import postdales as da"
   ]
  },
  {
   "cell_type": "markdown",
   "metadata": {},
   "outputs": [],
   "source": [
    "#### _Specify data path:_"
   ]
  },
  {
   "cell_type": "code",
   "metadata": {},
   "outputs": [],
   "source": [
    "datadir = './outputs/300/'"
   ]
  },
  {
   "cell_type": "markdown",
   "metadata": {},
   "outputs": [],
   "source": [
    "#### Read in netcdf files"
   ]
  },
  {
   "cell_type": "code",
   "metadata": {},
   "outputs": [],
   "source": [
    "# get all netcdf files\n",
    "ncpaths = da.nc.getncpath(datadir)\n",
    "# get netcdf fields\n",
    "ncfields = da.nc.getncdata(ncpaths)\n",
    "# list all avaiable variables\n",
    "da.nc.variables_available(ncfields)"
   ]
  },
  {
   "cell_type": "markdown",
   "metadata": {},
   "outputs": [],
   "source": [
    "---"
   ]
  },
  {
   "cell_type": "markdown",
   "metadata": {},
   "outputs": [],
   "source": [
    "# Plots"
   ]
  },
  {
   "cell_type": "markdown",
   "metadata": {},
   "outputs": [],
   "source": [
    "## Vertical profiles"
   ]
  },
  {
   "cell_type": "markdown",
   "metadata": {},
   "outputs": [],
   "source": [
    "#### List avaiable variables in 1D"
   ]
  },
  {
   "cell_type": "code",
   "metadata": {},
   "outputs": [],
   "source": [
    "da.nc.variables_available_1D(ncfields)"
   ]
  },
  {
   "cell_type": "markdown",
   "metadata": {},
   "outputs": [],
   "source": [
    "#### _Select a variable:_"
   ]
  },
  {
   "cell_type": "code",
   "metadata": {},
   "outputs": [],
   "source": [
    "fieldname = 'xytdump'\n",
    "varname = 'uxyt'"
   ]
  },
  {
   "cell_type": "markdown",
   "metadata": {},
   "outputs": [],
   "source": [
    "#### Read in variable and coordinates"
   ]
  },
  {
   "cell_type": "code",
   "metadata": {},
   "outputs": [],
   "source": [
    "ncfield = da.nc.select_ncfield(ncfields, fieldname)\n",
    "var = da.nc.select_variable(varname, ncfield)\n",
    "coords = da.nc.select_coordinates(varname, ncfield)\n",
    "print(var)\n",
    "print(coords)"
   ]
  },
  {
   "cell_type": "markdown",
   "metadata": {},
   "outputs": [],
   "source": [
    "#### Plot vertical profile"
   ]
  },
  {
   "cell_type": "code",
   "metadata": {},
   "outputs": [],
   "source": [
    "timestep = -1\n",
    "zaxis = coords[1]\n",
    "da.plot.vertical_profile(var, zaxis, timestep)"
   ]
  },
  {
   "cell_type": "markdown",
   "metadata": {},
   "outputs": [],
   "source": [
    "## Fields"
   ]
  },
  {
   "cell_type": "markdown",
   "metadata": {},
   "outputs": [],
   "source": [
    "#### List available 2D fields for field plots"
   ]
  },
  {
   "cell_type": "code",
   "metadata": {},
   "outputs": [],
   "source": [
    "da.nc.variables_available_2D(ncfields)"
   ]
  },
  {
   "cell_type": "markdown",
   "metadata": {},
   "outputs": [],
   "source": [
    "#### _Select a variable:_"
   ]
  },
  {
   "cell_type": "code",
   "metadata": {},
   "outputs": [],
   "source": [
    "fieldname = 'ydump'\n",
    "varname = 'uy'"
   ]
  },
  {
   "cell_type": "markdown",
   "metadata": {},
   "outputs": [],
   "source": [
    "#### Read in variable and coordinates"
   ]
  },
  {
   "cell_type": "code",
   "metadata": {},
   "outputs": [],
   "source": [
    "ncfield = da.nc.select_ncfield(ncfields, fieldname)\n",
    "var = da.nc.select_variable(varname, ncfield)\n",
    "coords = da.nc.select_coordinates(varname, ncfield)\n",
    "print(var)"
   ]
  },
  {
   "cell_type": "markdown",
   "metadata": {},
   "outputs": [],
   "source": [
    "#### Choose time step and plot field"
   ]
  },
  {
   "cell_type": "code",
   "metadata": {},
   "outputs": [],
   "source": [
    "timestep = -1\n",
    "xaxis = coords[2]\n",
    "yaxis = coords[1]\n",
    "da.field_plot2D(var, xaxis, yaxis, timestep)"
   ]
  },
  {
   "cell_type": "markdown",
   "metadata": {},
   "outputs": [],
   "source": [
    "#### List available 3D fields for field plots"
   ]
  },
  {
   "cell_type": "code",
   "metadata": {},
   "outputs": [],
   "source": [
    "da.nc.variables_available_3D(ncfields)"
   ]
  },
  {
   "cell_type": "markdown",
   "metadata": {},
   "outputs": [],
   "source": [
    "#### _Select a variable:_"
   ]
  },
  {
   "cell_type": "code",
   "metadata": {},
   "outputs": [],
   "source": [
    "fieldname = 'fielddump'\n",
    "varname = 'u'"
   ]
  },
  {
   "cell_type": "markdown",
   "metadata": {},
   "outputs": [],
   "source": [
    "#### Read in variable and coordinates"
   ]
  },
  {
   "cell_type": "code",
   "metadata": {},
   "outputs": [],
   "source": [
    "ncfield = da.nc.select_ncfield(ncfields, fieldname)\n",
    "var = da.nc.select_variable(varname, ncfield)\n",
    "coords = da.nc.select_coordinates(varname, ncfield)\n",
    "print(var)"
   ]
  },
  {
   "cell_type": "markdown",
   "metadata": {},
   "outputs": [],
   "source": [
    "#### Choose axes, timestep and fixed space position, and plot field"
   ]
  },
  {
   "cell_type": "code",
   "metadata": {},
   "outputs": [],
   "source": [
    "timestep = -1\n",
    "spacepos = 20\n",
    "xaxis = coords[3]\n",
    "yaxis = coords[1]\n",
    "da.plot.field_plot3D(var, xaxis, yaxis, timestep, spacepos)"
   ]
  },
  {
   "cell_type": "markdown",
   "metadata": {},
   "outputs": [],
   "source": [
    "## Add blocks to field plots"
   ]
  },
  {
   "cell_type": "markdown",
   "metadata": {},
   "outputs": [],
   "source": [
    "#### Read in blocks"
   ]
  },
  {
   "cell_type": "code",
   "metadata": {},
   "outputs": [],
   "source": [
    "filename = 'blocks.inp.300'\n",
    "blocksfile = os.path.join(datadir, filename)\n",
    "blocks = da.inputs.blocks(blocksfile)\n",
    "print(blocks)"
   ]
  },
  {
   "cell_type": "markdown",
   "metadata": {},
   "outputs": [],
   "source": [
    "#### Read in mid cell coordinates"
   ]
  },
  {
   "cell_type": "code",
   "metadata": {},
   "outputs": [],
   "source": [
    "ncfield = da.nc.select_ncfield(ncfields, 'fielddump')\n",
    "coordinates = da.nc.get_coordinates(ncfield)\n",
    "# mid cell coordinates\n",
    "xaxis = coordinates['xm']\n",
    "yaxis = coordinates['ym']\n",
    "zaxis = coordinates['zm']"
   ]
  },
  {
   "cell_type": "markdown",
   "metadata": {},
   "outputs": [],
   "source": [
    "#### Dimensionalise blocks"
   ]
  },
  {
   "cell_type": "code",
   "metadata": {},
   "outputs": [],
   "source": [
    "dimblocks = da.data.getdimblocks(blocks, xaxis, yaxis, zaxis)\n",
    "print(dimblocks)"
   ]
  },
  {
   "cell_type": "markdown",
   "metadata": {},
   "outputs": [],
   "source": [
    "#### Plot with blocks"
   ]
  },
  {
   "cell_type": "code",
   "metadata": {},
   "outputs": [],
   "source": [
    "timestep = -1\n",
    "spacepos = 20\n",
    "xaxis = coords[3]\n",
    "yaxis = coords[1]\n",
    "fixedaxis = coords[2]\n",
    "blocks2d = da.plot.get_2dblocks(dimblocks, xaxis, yaxis, fixedaxis[spacepos])\n",
    "da.plot.field_plot3D(var, xaxis, yaxis, timestep, spacepos, blocks2d)"
   ]
  },
  {
   "cell_type": "code",
   "metadata": {},
   "outputs": [],
   "source": []
  }
 ],
 "metadata": {
  "kernelspec": {
   "display_name": "Python [conda env:dales_ipykernel]",
   "language": "python",
   "name": "conda-env-dales_ipykernel-py"
  },
  "language_info": {
   "codemirror_mode": {
    "name": "ipython",
    "version": 3
   },
   "file_extension": ".py",
   "mimetype": "text/x-python",
   "name": "python",
   "nbconvert_exporter": "python",
   "pygments_lexer": "ipython3",
   "version": "3.6.4"
  }
 },
 "nbformat": 4,
 "nbformat_minor": 2
}