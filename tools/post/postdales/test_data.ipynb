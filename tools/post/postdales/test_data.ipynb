{
 "cells": [
  {
   "cell_type": "markdown",
   "metadata": {},
   "source": [
    "# Script to compare data outputs"
   ]
  },
  {
   "cell_type": "markdown",
   "metadata": {},
   "source": [
    "# Contents\n",
    "[Setup](#Setup)\n",
    "\n",
    "[Get the data](#Get-the-data)\n",
    "\n",
    "[Data analysis](#Data-analysis)\n",
    "\n",
    "[Save data](#Save-exp-data)\n",
    "\n",
    "[Display analysis results](#Display-data-analysis-results)"
   ]
  },
  {
   "cell_type": "markdown",
   "metadata": {},
   "source": [
    "# Setup"
   ]
  },
  {
   "cell_type": "markdown",
   "metadata": {},
   "source": [
    "##### Set up libaries, paths and data"
   ]
  },
  {
   "cell_type": "code",
   "execution_count": null,
   "metadata": {},
   "outputs": [],
   "source": [
    "%matplotlib inline\n",
    "import sys, os\n",
    "import math\n",
    "import numpy as np\n",
    "import matplotlib as mpl\n",
    "import matplotlib.pyplot as plt\n",
    "import seaborn as sns\n",
    "import netCDF4\n",
    "import operator\n",
    "import IPython.display\n",
    "import time\n",
    "import glob\n",
    "import pprint\n",
    "sys.path.append('postdales')\n",
    "import postdales as da"
   ]
  },
  {
   "cell_type": "code",
   "execution_count": null,
   "metadata": {},
   "outputs": [],
   "source": [
    "# set paths\n",
    "projectpath, exppath, workpath, ephemeral = da.tools.environment()\n",
    "# define standard colors\n",
    "light, dark, emphcolors = da.tools.colorschemes()\n",
    "# define additional plot styles\n",
    "linestyles = da.tools.plotstyles()\n",
    "# define the plot style\n",
    "# Can be configured in os.path.join(mpl._get_configdir(), 'stylelib').\n",
    "# Default styles are in os.path.join(mpl.get_data_path(), 'stylelib').\n",
    "mpl.style.use(dark)\n",
    "# mpl.style.use(light)"
   ]
  },
  {
   "cell_type": "markdown",
   "metadata": {},
   "source": [
    "# Get the data\n",
    "\n",
    "[Back to Contents](#Contents)"
   ]
  },
  {
   "cell_type": "markdown",
   "metadata": {},
   "source": [
    "#### _Set the experiment numbers:_"
   ]
  },
  {
   "cell_type": "code",
   "execution_count": null,
   "metadata": {},
   "outputs": [],
   "source": [
    "# expnrs = ['521', '522', '593', '574', '545', '556', '500']\n",
    "expnrs = ['324']"
   ]
  },
  {
   "cell_type": "markdown",
   "metadata": {},
   "source": [
    "## Load saved exp data object"
   ]
  },
  {
   "cell_type": "code",
   "execution_count": null,
   "metadata": {},
   "outputs": [],
   "source": [
    "# set up list of exp class object\n",
    "exps = []\n",
    "for expnr in expnrs:\n",
    "    exp = da.tools.load_saved_exp(expnr, projectpath + 'src/jupyter/figures/')\n",
    "    exps.append(exp)"
   ]
  },
  {
   "cell_type": "markdown",
   "metadata": {},
   "source": [
    "[Display data analysis results](#Display-data-analysis-results)\n",
    "\n",
    "---\n",
    "## Read in original data"
   ]
  },
  {
   "cell_type": "markdown",
   "metadata": {},
   "source": [
    "##### Setup exp object and add data paths, specs, parameters and blocks"
   ]
  },
  {
   "cell_type": "code",
   "execution_count": null,
   "metadata": {},
   "outputs": [],
   "source": [
    "# add data paths to exps\n",
    "for exp in exps:\n",
    "    exp.datapath = os.path.join(ephemeral, exp.name, '')\n",
    "    exp.inpspath = os.path.join(exppath, exp.name, '')    \n",
    "# add blocks and parameters to exps\n",
    "for exp in exps:\n",
    "    namoptions, blocksfile = da.tools.getinputs(exp.datapath, exp.inpspath)\n",
    "    # get blocks\n",
    "    blocks = da.tools.getblocks(blocksfile)\n",
    "    exp.add_blockstats('blocks', blocks)\n",
    "    # get parameters\n",
    "    parameters = da.tools.getparameters(namoptions)\n",
    "    exp.add_parameters(parameters)"
   ]
  },
  {
   "cell_type": "markdown",
   "metadata": {},
   "source": [
    "##### Read in netcdf files"
   ]
  },
  {
   "cell_type": "code",
   "execution_count": null,
   "metadata": {},
   "outputs": [],
   "source": [
    "for exp in exps:\n",
    "    # get netcdf paths and fields\n",
    "    # read from ephemeral first\n",
    "    ncpaths = da.tools.getncpath(exp.datapath)\n",
    "    # if ncpaths is empty, check workpath\n",
    "    if not ncpaths:\n",
    "        exp.datapath = os.path.join(workpath, exp.name, '')\n",
    "        ncpaths = da.tools.getncpath(exp.datapath)\n",
    "    # get fields\n",
    "    ncfields = da.tools.getncdata(ncpaths)\n",
    "    exp.add_data('ncfields', ncfields)\n",
    "#     print(\"Available variables:\\n\")\n",
    "#     for fdata in exp.ncfields:\n",
    "#         print(fdata.title, \":\\n\", list(fdata.variables.keys()))"
   ]
  },
  {
   "cell_type": "markdown",
   "metadata": {},
   "source": [
    "##### Select variables and read in data"
   ]
  },
  {
   "cell_type": "code",
   "execution_count": null,
   "metadata": {},
   "outputs": [],
   "source": [
    "# dict of dict with selected variables\n",
    "selectvars = {\n",
    "             'fielddump' : {'xt' : 'xt', 'yt' : 'yt', 'zt' : 'zt', \n",
    "                            'xm' : 'xm', 'ym' : 'ym', 'zm' : 'zm',\n",
    "                            'tfield' : 'time',\n",
    "                            'u' : 'u', 'v' : 'v', 'w' : 'w',\n",
    "                            'p' : 'pres', 'th' : 'thl'\n",
    "                           },\n",
    "             'xytdump' : {'zt' : 'zt', 'zm' : 'zm', 'tstats' : 'time', \n",
    "                          'ubar' : 'uxyt',  'vbar' : 'vxyt',  'wbar' : 'wxyt', \n",
    "                          'upwp' : 'upwpxyt', 'vpwp' : 'vpwpxyt', 'upvp' : 'upvpxyt',\n",
    "                          'uw' : 'uwxyt', 'vw' : 'vwxyt', 'uv' : 'uvxyt',\n",
    "                          'ww' : 'wwxyt',\n",
    "                          'tke' : 'tketxyc',\n",
    "                          'upup' : 'upuptxyc', 'vpvp' : 'vpvptxyc', 'wpwp' : 'wpwptxyc',\n",
    "                          'usgs' :  'usgsxyt', 'vsgs' :  'vsgsxyt',\n",
    "                          'pav' : 'pxyt'\n",
    "                          , 'thl' : 'thlxyt', 'wpthl' : 'wpthlpxyt', 'wthl' : 'wthlxyt', 'thlpthlp' :  'thlpthlptxy', 'thlsgs' : 'thlsgsxyt'\n",
    "                          , 'qtxyt' : 'qtxyt'\n",
    "                         },\n",
    "            'tdump' : {'xt' : 'xt', 'yt' : 'yt', 'zt' : 'zt', \n",
    "                       'xm' : 'xm', 'ym' : 'ym', 'zm' : 'zm',\n",
    "                       'ut' : 'ut', 'vt' : 'vt', 'wt' : 'wt',\n",
    "                       'upwpt' : 'upwpt', 'vpwpt' : 'vpwpt', 'upvpt' : 'upvpt',\n",
    "                       'tket' : 'tketc',\n",
    "                       'upupt' : 'upuptc', 'vpvpt' : 'vpvptc', 'wpwpt' : 'wpwptc',\n",
    "                       'pt' : 'pt'\n",
    "                       , 'thlt' : 'thlt', 'wpthlpt' : 'wpthlpt', 'thlpthlpt' : 'thlpthlpt'\n",
    "                       , 'qtt' : 'qtt'\n",
    "                      }\n",
    "            }\n",
    "for exp in exps:\n",
    "    exp = da.tools.getncvars(exp, selectvars)"
   ]
  },
  {
   "cell_type": "markdown",
   "metadata": {},
   "source": [
    "[Display data analysis results](#Display-data-analysis-results)\n",
    "\n",
    "---\n",
    "# Data analysis\n",
    "\n",
    "[Back to Contents](#Contents)\n",
    "\n",
    "[Display and save exp data](#Display-and-save-exp-data)\n",
    "\n",
    "[Display data analysis results](#Display-data-analysis-results)"
   ]
  },
  {
   "cell_type": "markdown",
   "metadata": {},
   "source": [
    "### Colours and references"
   ]
  },
  {
   "cell_type": "code",
   "execution_count": null,
   "metadata": {},
   "outputs": [],
   "source": [
    "# define references\n",
    "referencelist, colorlist, markerlist = da.tools.referencelists()\n",
    "# add colors and reference to exps\n",
    "for counter, exp in enumerate(exps):\n",
    "    exp.color = colorlist[counter]\n",
    "    exp.marker = markerlist[counter]\n",
    "    exp.reference = referencelist[counter]"
   ]
  },
  {
   "cell_type": "markdown",
   "metadata": {},
   "source": [
    "## Basic data analysis"
   ]
  },
  {
   "cell_type": "code",
   "execution_count": null,
   "metadata": {},
   "outputs": [],
   "source": [
    "for exp in exps:\n",
    "#     # get parameters\n",
    "#     parameters = da.tools.getparameters(namoptions)\n",
    "#     exp.add_parameters(parameters)    \n",
    "    # get dimensionalised blocks\n",
    "    dimblocks = da.tools.getdimblocks(exp.blocks, exp.xm[:], exp.ym[:], exp.zm[:])\n",
    "    exp.add_blockstats(\"dimblocks\", dimblocks)\n",
    "    # Block statistics\n",
    "    a0 = exp.xsize * exp.ysize\n",
    "    exp.add_blockstats(\"a0\", a0)\n",
    "    blockstats = da.stats.blockstats(dimblocks=exp.dimblocks, a0=exp.a0, zm=exp.zm[:])\n",
    "    for name, value in blockstats.items():\n",
    "        exp.add_blockstats(name, value)\n",
    "    exp = da.stats.height_norm(exp)\n",
    "    # get fluxes and gradients\n",
    "    exp = da.stats.momentum_fluxes(exp)\n",
    "    exp = da.stats.patch_momentum_fluxes(exp)  # set lowest entry to zero\n",
    "    exp = da.stats.estimate_flux_gradients(exp)\n",
    "    # get stresses\n",
    "    exp = da.stats.estimate_pressure_gradient(exp)\n",
    "    exp = da.stats.estimate_pressure_forcing(exp)\n",
    "    exp = da.stats.estimate_drag(exp)\n",
    "    # Friction velocity\n",
    "    exp = da.stats.estimate_ustar(exp)\n",
    "    # Flux norm\n",
    "    exp = da.stats.flux_norm(exp)\n",
    "# print what has been computed\n",
    "for exp in exps:\n",
    "    print(exp.reference, \"Variables added:\\n\", list(exp.data.keys()), '\\n')"
   ]
  },
  {
   "cell_type": "markdown",
   "metadata": {},
   "source": [
    "---\n",
    "## Further analysis\n",
    "[Back to Contents](#Contents)\n",
    "\n",
    "[Display and save exp data](#Display-and-save-exp-data)\n",
    "\n",
    "[Display data analysis results](#Display-data-analysis-results)"
   ]
  },
  {
   "cell_type": "markdown",
   "metadata": {},
   "source": [
    "### Compute block and canyon statistics"
   ]
  },
  {
   "cell_type": "code",
   "execution_count": null,
   "metadata": {},
   "outputs": [],
   "source": [
    "for exp in exps:\n",
    "#     # get parameters\n",
    "#     parameters = da.tools.getparameters(namoptions)\n",
    "#     exp.add_parameters(parameters)    \n",
    "    # get dimensionalised blocks\n",
    "    dimblocks = da.tools.getdimblocks(exp.blocks, exp.xm[:], exp.ym[:], exp.zm[:])\n",
    "    exp.add_blockstats(\"dimblocks\", dimblocks)\n",
    "    # get street canyons\n",
    "    dimcanyons, dimfullcanyons = da.tools.getcanyons(exp.dimblocks, [0, exp.xsize, 0, exp.ysize])\n",
    "    exp.add_blockstats('dimcanyons', dimcanyons)\n",
    "    exp.add_blockstats('dimfullcanyons', dimfullcanyons)\n",
    "    a0 = exp.xsize * exp.ysize\n",
    "    exp.add_blockstats(\"a0\", a0)\n",
    "    # Block statistics\n",
    "    blockstats = da.stats.blockstats(dimblocks=exp.dimblocks, a0=exp.a0, zm=exp.zm[:], dimcanyons=exp.dimfullcanyons)\n",
    "    for name, value in blockstats.items():\n",
    "        exp.add_blockstats(name, value)\n",
    "    # height norm\n",
    "    exp = da.stats.height_norm(exp)\n",
    "\n",
    "print(\"Computed street canyons.\")\n",
    "print(\"Computed block statistics.\")\n",
    "print(\"Computed height norms.\")"
   ]
  },
  {
   "cell_type": "markdown",
   "metadata": {},
   "source": [
    "### Compute vertical fluxes"
   ]
  },
  {
   "cell_type": "code",
   "execution_count": null,
   "metadata": {},
   "outputs": [],
   "source": [
    "for exp in exps:\n",
    "    # Get momentum fluxes\n",
    "    varstart = 0\n",
    "    varstop = None\n",
    "    method = \"last\"  # \"average\", \"last\", \"index\"\n",
    "    index = -1\n",
    "    # get fluxes and gradients\n",
    "    exp = da.stats.momentum_fluxes(exp)\n",
    "    exp = da.stats.patch_momentum_fluxes(exp)  # set lowest entry to zero\n",
    "print(\"Computed momentum fluxes.\")"
   ]
  },
  {
   "cell_type": "markdown",
   "metadata": {},
   "source": [
    "### Compute inflection point"
   ]
  },
  {
   "cell_type": "code",
   "execution_count": null,
   "metadata": {},
   "outputs": [],
   "source": [
    "for exp in exps:\n",
    "    # Estimate inflection point ze\n",
    "    exp = da.stats.estimate_inflection_point(exp)\n",
    "print(\"Estimated inflection point ze.\")"
   ]
  },
  {
   "cell_type": "markdown",
   "metadata": {},
   "source": [
    "### Compute forcing and drag"
   ]
  },
  {
   "cell_type": "code",
   "execution_count": null,
   "metadata": {},
   "outputs": [],
   "source": [
    "for exp in exps:\n",
    "    exp = da.stats.estimate_flux_gradients(exp)\n",
    "    exp = da.stats.estimate_pressure_gradient(exp)\n",
    "    exp = da.stats.estimate_pressure_forcing(exp)\n",
    "    exp = da.stats.estimate_drag(exp)\n",
    "    exp = da.stats.pressure_norm(exp)\n",
    "    # Friction velocity\n",
    "    exp = da.stats.estimate_ustar(exp)\n",
    "    # Flux norm\n",
    "    exp = da.stats.flux_norm(exp)\n",
    "    # Centre of mass\n",
    "    exp = da.stats.estimate_mass_centre(exp)\n",
    "    # z_RSL and z_UCL\n",
    "    exp = da.stats.estimate_layer_heights(exp)\n",
    "print(\"Estimated total shear stress and drag.\")\n",
    "# define reference friction velocity of smooth wall case\n",
    "for exp in exps:\n",
    "    if '(g)' in exp.reference:\n",
    "        expref = exp\n",
    "try:\n",
    "    exps = da.stats.ustar_norm(exps, expref)\n",
    "    print(\"Defined reference friction velocity for all experiments.\")\n",
    "except Exception:\n",
    "    pass\n",
    "# get a drag estimation polynomial\n",
    "exps = da.stats.calculate_drag_polynomial_estimation(exps, degree=3)\n",
    "print(\"Computed drag estimation polynomial.\")"
   ]
  },
  {
   "cell_type": "markdown",
   "metadata": {},
   "source": [
    "### Compute log law statistics"
   ]
  },
  {
   "cell_type": "code",
   "execution_count": null,
   "metadata": {},
   "outputs": [],
   "source": [
    "for exp in exps:\n",
    "    # zUCL and zRSL\n",
    "#     exp = da.stats.estimate_layer_heights(exp)\n",
    "    # add one type of blending height for log law estimate  fitting range\n",
    "    zr_index = exp.zrsl_index\n",
    "    zr_index = 100\n",
    "    exp.add_data(\"zr_index\", zr_index)\n",
    "#     fitting around estimated zr\n",
    "    fitstart = exp.zr_index\n",
    "    if fitstart < 15:\n",
    "        fitstart = 50\n",
    "    elif fitstart > exp.kmax - 50:\n",
    "        fitstart = exp.kmax - 60\n",
    "    fitstop = fitstart + 50\n",
    "    # log law estimates\n",
    "    exp = da.stats.estimate_displacement_length(exp, fitstart, fitstop, rangestop=45)\n",
    "    exp = da.stats.estimate_roughness_length(exp, fitstart, fitstop)\n",
    "    exp = da.stats.estimate_loglaw(exp)\n",
    "print(\"Estimated displacement length zd.\")\n",
    "print(\"Estimated roughness length z0.\")"
   ]
  },
  {
   "cell_type": "markdown",
   "metadata": {},
   "source": [
    "---\n",
    "# Save exp data\n",
    "\n",
    "[Back to Contents](#Contents)\n",
    "\n",
    "[Display data analysis results](#Display-data-analysis-results)\n",
    "\n",
    "To get exp ready we need to delete or convert netcdf variables as they are not pickable."
   ]
  },
  {
   "cell_type": "code",
   "execution_count": null,
   "metadata": {},
   "outputs": [],
   "source": [
    "save = True\n",
    "for exp in exps:\n",
    "    if save is True:\n",
    "        [exp.delete_data(d) for d in ['ncfields', 'ubar', 'upwp', 'uw']]\n",
    "        # delete large netcdf variables, add data of small ones\n",
    "        da.tools.delete_netcdfs(exp)\n",
    "        with open(projectpath + '/src/jupyter/figures/exp-%s.pkl' %exp.name, 'wb') as file:\n",
    "            da.tools.ExpStored.save(exp, file)\n",
    "    print(\"\\nExperiment data:\")\n",
    "    print(exp.fulllist())"
   ]
  },
  {
   "cell_type": "markdown",
   "metadata": {},
   "source": [
    "---\n",
    "# Display data analysis results\n",
    "\n",
    "#### Block inputs\n",
    "1. [Block layouts and blockfuntions](#Blocks-layouts-and-blockfunctions)  \n",
    "\n",
    "#### Analysis of vertical profiles\n",
    "1. [Vertical wind and flux profiles](#Vertical-wind-and-flux-profiles)\n",
    "2. [Wind profile and momentum flux developments](#Wind-profile-and-momentum-flux-developments)\n",
    "3. [Force balance and integrated force balance](#Force-balance-and-integrated-force-balance)\n",
    "\n",
    "#### Compare between simulations\n",
    "\n",
    "1. a) [Mean wind profiles](#Mean-wind-profiles)    \n",
    "   b) [Normalised wind profiles in the urban canopy](#Normalised-wind-profiles-in-the-urban-canopy)   \n",
    "2. [Total momentum fluxes](#Total-momentum-fluxes)    \n",
    "3. [Drag](#Drag)  \n",
    "\n",
    "#### Vertical profiles\n",
    "1. [Any 1D quantity](#Any-1D-quantity)\n",
    "\n",
    "#### Field plots\n",
    "16. [Field plot](#Field-plot)\n",
    "17. [Quiver and wind speed plot](#Quiver-and-wind-speed-plot)\n",
    "\n",
    "[Save exp data](#Save-exp-data)"
   ]
  },
  {
   "cell_type": "code",
   "execution_count": null,
   "metadata": {},
   "outputs": [],
   "source": [
    "mpl.style.use(dark)\n",
    "# mpl.style.use(light)"
   ]
  },
  {
   "cell_type": "markdown",
   "metadata": {},
   "source": [
    "[Back to Contents](#Contents)\n",
    "## Blocks layouts and blockfunctions"
   ]
  },
  {
   "cell_type": "code",
   "execution_count": null,
   "metadata": {},
   "outputs": [],
   "source": [
    "# setup\n",
    "if len(exps) == 7:\n",
    "    n = len(exps) - 1  # ignore reference solution\n",
    "else:\n",
    "    n = len(exps)\n",
    "for exp in exps[:n]:\n",
    "    # how often block layouts are duplicated\n",
    "    divx = exp.xsize/120  # 4\n",
    "    divy = exp.ysize/120  # 2\n",
    "    nbl = int(len(exp.dimblocks)/(divx * divy))    \n",
    "    limits=[0, exp.xsize/divx, 0, exp.ysize/divy, 0, exp.zsize/2]\n",
    "    # plot\n",
    "    fig = plt.figure(figsize=(12, 4))\n",
    "    # geometry plot\n",
    "    ax = fig.add_subplot(1, 4, 1, projection='3d')\n",
    "    da.plot.blocks3d(exp.dimblocks[:nbl], ax=ax, \n",
    "                       facecolor=exp.color, edgecolor='k', \n",
    "                       limits=limits)\n",
    "    plt.title(\"Blocks\")\n",
    "    ax.xaxis.set_ticks(np.linspace(*limits[0:2], 5))\n",
    "    ax.yaxis.set_ticks(np.linspace(*limits[2:4], 5))\n",
    "    ax.zaxis.set_ticks(np.linspace(*limits[4:6], 4))\n",
    "    ax.set_aspect('equal')\n",
    "    ax.view_init(25, 235)\n",
    "    ax.dist=12\n",
    "    # layout plot\n",
    "    ax = fig.add_subplot(1, 4, 2)\n",
    "    da.plot.layout(exp.dimblocks[:nbl], ax=ax, limits=limits[:4], \n",
    "                     facecolor=exp.color)\n",
    "    ax.set_xticks(np.linspace(*limits[0:2], 5))\n",
    "    ax.set_yticks(np.linspace(*limits[2:4], 5))\n",
    "    plt.title(\"Blocks plan layout\")    \n",
    "    # building density plot\n",
    "    ax = fig.add_subplot(1, 4, 3)\n",
    "    plt.plot(exp.blockfunction_lp, exp.zm*exp.normh, color=exp.color)\n",
    "    plt.axhline(y=1, linestyle=\":\", color='grey')\n",
    "    plt.xlabel(\"$\\lambda_p(z)$\")\n",
    "    plt.ylabel(\"$z/z_H$\")\n",
    "    plt.title(\"Building area density\")\n",
    "    # building frontal density plot\n",
    "    ax = fig.add_subplot(1, 4, 4)\n",
    "    plt.plot(exp.blockfunction_lf, exp.zm*exp.normh, color=exp.color)\n",
    "    plt.axhline(y=1, linestyle=\":\", color='grey')\n",
    "    plt.xlabel(\"$\\lambda_f(z)$\")\n",
    "    plt.ylabel(\"$z/z_H$\")\n",
    "    plt.title(\"Building frontal area density\")\n",
    "\n",
    "    plt.suptitle(\"%s\" %exp.reference)\n",
    "    plt.tight_layout()\n",
    "    plt.subplots_adjust(top=0.8)\n",
    "    plt.show()"
   ]
  },
  {
   "cell_type": "code",
   "execution_count": null,
   "metadata": {},
   "outputs": [],
   "source": [
    "for exp in exps:\n",
    "    print(exp.reference)\n",
    "    print(\"lamda_p = \", exp.lp)\n",
    "    print(\"lambda_f = \", exp.lf)\n",
    "    print(\"no. of blocks: \", exp.nblocks)\n",
    "    print(\"zmax = \", exp.zmax, \"m\")\n",
    "    print(\"zh = \", exp.zh, \"m\")\n",
    "    print(\"sigma_h = \", exp.sigma_h, \"m\")\n",
    "#     print(\"Blocks:\\n\", exp.dimblocks)"
   ]
  },
  {
   "cell_type": "markdown",
   "metadata": {},
   "source": [
    "[Back to Contents](#Contents)\n",
    "## Vertical wind and flux profiles"
   ]
  },
  {
   "cell_type": "code",
   "execution_count": null,
   "metadata": {},
   "outputs": [],
   "source": [
    "for exp in exps:\n",
    "    # rounding time steps to nearest 10\n",
    "    timestep = int(round(exp.t[-1]/10)*10)\n",
    "    if len(exp.t) > 1:\n",
    "        avtime = int(round((exp.t[-1] - exp.t[-2]) * 0.1) * 10)\n",
    "        \n",
    "    # plot figure\n",
    "    fig = plt.figure(figsize=(3*2, 4*1))\n",
    "    \n",
    "    # mean wind\n",
    "    ax = fig.add_subplot(1, 2, 1)\n",
    "    plt.plot(exp.uav, exp.zt*exp.normh, color=exp.color)\n",
    "    # z_H\n",
    "    plt.scatter(exp.uav[exp.zh_tindex], exp.zh*exp.normh, marker='.', color='grey')\n",
    "    plt.text(exp.uav[exp.zh_tindex]-0.08, (exp.zh-8)*exp.normh, \"$z_H$\", \n",
    "             fontsize=8, color='grey')\n",
    "    # z_max\n",
    "    plt.scatter(exp.uav[exp.zmax_tindex], exp.zmax*exp.normh, marker='.', color='grey')\n",
    "    plt.text(exp.uav[exp.zmax_tindex]-0.22, (exp.zmax+5)*exp.normh, \"$z_{max}$\", \n",
    "             fontsize=8, color='grey')\n",
    "\n",
    "    plt.xlabel(r\"Wind speed $\\langle \\bar u \\rangle(z)$ [m/s]\")\n",
    "    plt.ylabel('Height $z/z_H$')\n",
    "    plt.title(\"Mean $u$ wind profile\")\n",
    "\n",
    "    # fluxes\n",
    "    ax = fig.add_subplot(1, 2, 2)\n",
    "    plt.plot(exp.totflux, exp.zm*exp.normh, color=exp.color)\n",
    "    plt.plot(exp.turbflux, exp.zm*exp.normh, label=\"turbulent flux\", \n",
    "             linestyle=\":\", linewidth=1, color=exp.color)\n",
    "    plt.plot(exp.dispflux, exp.zm*exp.normh, label='dispersive flux', \n",
    "             linestyle=\"--\", linewidth=1, color=exp.color)\n",
    "    plt.plot(exp.viscflux, exp.zm*exp.normh, label='viscous SGS flux', \n",
    "             linestyle=\"-.\", linewidth=0.6, color=exp.color)\n",
    "\n",
    "    # z_H\n",
    "    plt.axhline(y=exp.zh*exp.normh, linewidth=0.5,  color=\"grey\")\n",
    "    plt.scatter((-0.05)*(1/exp.normf), exp.zh*exp.normh, marker='.', color='grey')\n",
    "    plt.text((-0.08)*(1/exp.normf), (exp.zh-8)*exp.normh, \"$z_H$\", \n",
    "             fontsize=8, color='grey')\n",
    "    # z_max\n",
    "    plt.axhline(y=exp.zmax*exp.normh, linewidth=0.5, color='grey')\n",
    "    plt.scatter((-0.05)*(1/exp.normf), exp.zmax*exp.normh, marker='.', color='grey')\n",
    "    plt.text((-0.08)*(1/exp.normf), (exp.zmax+5)*exp.normh, \"$z_{max}$\", \n",
    "             fontsize=8, color='grey')\n",
    "\n",
    "    plt.xlabel(r\"Flux $\\tau(z)$ [m$^2$/s$^2$]\")\n",
    "    plt.ylabel(r'Height $z/z_H$')\n",
    "    plt.title(\"Vertical $u$ momentum flux\")\n",
    "    plt.legend(prop={'size': 'small'})\n",
    "\n",
    "    if len(exp.t) > 1:\n",
    "        plt.suptitle(\"%s Mean profiles after %s s with average time %s s\" \n",
    "                     % (exp.name, timestep, avtime) )\n",
    "    else:\n",
    "        plt.suptitle(\"%s Mean profiles after %s s\" % (exp.name, timestep) )\n",
    "    plt.tight_layout()\n",
    "    plt.subplots_adjust(top=0.88)\n",
    "    plt.show()"
   ]
  },
  {
   "cell_type": "markdown",
   "metadata": {},
   "source": [
    "[Back to Contents](#Contents)\n",
    "## Wind profile and momentum flux developments"
   ]
  },
  {
   "cell_type": "code",
   "execution_count": null,
   "metadata": {},
   "outputs": [],
   "source": [
    "# setup\n",
    "varstart = -4\n",
    "varstop = None\n",
    "trange = slice(varstart, varstop)\n",
    "# plot\n",
    "for exp in exps:    \n",
    "    try:\n",
    "        times = exp.t[trange]\n",
    "        varav = exp.uavs[trange]\n",
    "        tots = exp.totfluxes[trange]\n",
    "        turbs = exp.turbfluxes[trange]\n",
    "        disps = exp.dispfluxes[trange]\n",
    "    except Exception: # if slice out of bounds\n",
    "        times = exp.t[:]\n",
    "        varav = exp.uavs[:]  \n",
    "        tots = exp.totfluxes[:]\n",
    "        turbs = exp.turbfluxes[:]\n",
    "        disps = exp.dispfluxes[:]  \n",
    "        \n",
    "    fig = plt.figure(figsize=(3*2, 4*1), dpi=250)\n",
    "    # wind profile\n",
    "    ax1 = fig.add_subplot(1, 2, 1)\n",
    "\n",
    "    # get default text color black or white\n",
    "    textcol = plt.xlabel('').get_color()\n",
    "    if textcol is 'k':  # for dark background\n",
    "        reverse=False\n",
    "    else:\n",
    "        reverse=True\n",
    "    colorpal = sns.light_palette(exp.color, len(varav), reverse=reverse)\n",
    "\n",
    "    for i, uav in enumerate(varav):\n",
    "        # define variable length and average time\n",
    "        if i - 1 < 0:\n",
    "            try:\n",
    "                t0 = int(exp.t[varstart - 1])\n",
    "            except Exception:\n",
    "                t0 = 0\n",
    "        else:\n",
    "            t0 = int(times[i-1])\n",
    "        tstep = int(times[i])\n",
    "        plt.plot(uav, exp.zt*exp.normh, label=\"%s s to %s s\" %(t0, tstep),\n",
    "                color=colorpal[i])\n",
    "    plt.legend(fontsize='small', labelspacing=0.5)    \n",
    "    plt.title(\"Wind profile development\")\n",
    "    plt.xlabel(r\"Wind speed $\\langle \\bar u \\rangle(z)$ [m/s]\")\n",
    "    plt.ylabel('Height $z/z_H$')\n",
    "\n",
    "    # fluxes\n",
    "    ax2 = fig.add_subplot(1, 2, 2)\n",
    "    i = 0\n",
    "    for tot, disp, turb in zip(tots, disps, turbs):\n",
    "        # define variable length and average time\n",
    "        if i - 1 < 0:\n",
    "            try:\n",
    "                t0 = int(exp.t[varstart - 1])\n",
    "            except Exception:\n",
    "                t0 = 0\n",
    "        else:\n",
    "            t0 = int(times[i-1])\n",
    "        tstep = int(times[i])\n",
    "        p = plt.plot(tot, exp.zm*exp.normh, label=\"%s s to %s s\" %(t0, tstep),\n",
    "                    color=colorpal[i])\n",
    "        color = p[0].get_color()\n",
    "        plt.plot(turb, exp.zm*exp.normh, linestyle=\":\", color=color)\n",
    "        plt.plot(disp, exp.zm*exp.normh, linestyle=\"--\", color=color)\n",
    "        i += 1\n",
    "\n",
    "#     plt.legend()\n",
    "    plt.title(\"Flux development %s\" % exp.name)\n",
    "    plt.xlabel(r\"Flux $\\tau(z)$ [m$^2$/s$^2$]\")\n",
    "    plt.ylabel('Height $z/z_H$')\n",
    "    \n",
    "    plt.tight_layout()\n",
    "    plt.show()"
   ]
  },
  {
   "cell_type": "markdown",
   "metadata": {},
   "source": [
    "[Back to Contents](#Contents)\n",
    "## Force balance and integrated force balance"
   ]
  },
  {
   "cell_type": "code",
   "execution_count": null,
   "metadata": {},
   "outputs": [],
   "source": [
    "for exp in exps:\n",
    "    # plot figure\n",
    "    fig = plt.figure(figsize=(3*2, 4*1), dpi=250)\n",
    "    \n",
    "    # force balance\n",
    "    ax1 = fig.add_subplot(1, 2, 1)\n",
    "    # forcing    \n",
    "    plt.plot(exp.forcing, exp.zm, \n",
    "             linestyle=linestyles[0], color=exp.color, label='_nolegend_')\n",
    "#             , label=r\"$F$\")\n",
    "    # drag\n",
    "    plt.plot(exp.dragforce, exp.zm, \n",
    "             linestyle=linestyles[11], color=exp.color, label='_nolegend_') \n",
    "#              , label=r\"$D$\")\n",
    "    # total flux\n",
    "    plt.plot(exp.totflux_gradient, exp.zm, \n",
    "             linestyle=linestyles[2], color=exp.color, label='_nolegend_') \n",
    "#              , label=r\"$\\frac{\\partial \\tau}{\\partial z}$\")\n",
    "    # turbulent flux\n",
    "    plt.plot(exp.turbflux_gradient, exp.zm, \n",
    "             label= r\"$-\\frac{\\partial}{\\partial z} \\langle \\overline{w'u'} \\rangle$\",\n",
    "             linewidth=1, linestyle=\":\", color='xkcd:light brown')\n",
    "    # dispersive flux\n",
    "    plt.plot(exp.dispflux_gradient, exp.zm, \n",
    "             label=r\"$-\\frac{\\partial}{\\partial z} \\langle \\bar{w}''\\bar{u}'' \\rangle$\", \n",
    "             linewidth=1, linestyle=\"--\", color='xkcd:greyish purple')\n",
    "    # SGS flux\n",
    "    plt.plot(exp.viscflux_gradient, exp.zm, \n",
    "             label=r'$\\frac{\\partial}{\\partial z} \\nu_{SGS} \\frac{\\partial u}{\\partial z}$',  \n",
    "             linestyle=\"-.\", linewidth=0.6, color='xkcd:grey green')\n",
    "    \n",
    "    # forcing label\n",
    "    plt.annotate(\"$F$\", xy=(exp.forcing[-1], exp.zm[int(exp.zsize/2)]), xycoords='data', \n",
    "                 xytext=(10, 10), textcoords='offset points', color=exp.color)\n",
    "    # drag label\n",
    "    plt.annotate(\"$-D$\", xy=(exp.dragforce[int(exp.zh_index - 1)], exp.zm[int(exp.zh_index)]), xycoords='data', \n",
    "                 xytext=(10, 10), textcoords='offset points', color=exp.color)\n",
    "    # flux label\n",
    "    plt.annotate(r\"$\\frac{\\partial \\tau}{\\partial z}$\", \n",
    "                 xy=(-exp.dragforce[int(exp.zh_index - 1)], exp.zm[int(exp.zh_index)]), xycoords='data', \n",
    "                 xytext=(-15, 10), textcoords='offset points', color=exp.color)\n",
    "\n",
    "    # z_max\n",
    "    plt.axhline(y=exp.zmax, linewidth=0.5, color='grey')\n",
    "    if not exp.zmax == exp.zh:\n",
    "        plt.annotate(r\"$z_{\\max}$\", xy=(0, exp.zmax/exp.zsize), xycoords='axes fraction', \n",
    "                     xytext=(-21, 10), textcoords='offset points', color='grey')\n",
    "    # z_h\n",
    "    plt.axhline(y=exp.zh, linewidth=0.5,  color=\"grey\")\n",
    "    plt.annotate(r\"$z_H$\", xy=(0, exp.zh/exp.zsize), xycoords='axes fraction', \n",
    "                 xytext=(-21, 0), textcoords='offset points', color='grey')\n",
    "\n",
    "\n",
    "    plt.legend(fontsize='small', labelspacing=0.5)\n",
    "    plt.xlabel(r\"Forces and transport [m/s$^2$]\")\n",
    "    plt.ylabel('Height z [m]')\n",
    "    plt.title(\"Forces\")\n",
    "\n",
    "\n",
    "    # fluxes\n",
    "    ax2 = fig.add_subplot(1, 2, 2)\n",
    "    # stress\n",
    "    plt.plot(exp.totstress, exp.zm, \n",
    "             linestyle=linestyles[0], color=exp.color, label='_nolegend_')\n",
    "    # drag\n",
    "    plt.plot(exp.drag, exp.zm, \n",
    "             linestyle=linestyles[11], color=exp.color, label='_nolegend_') \n",
    "#              ,label=r\"$\\hat D$\")\n",
    "    # total flux\n",
    "    plt.plot(exp.totflux, exp.zm, \n",
    "             linestyle=linestyles[2], color=exp.color, label='_nolegend_')\n",
    "#              , label=r\"$\\tau$\")\n",
    "    # turbulent flux\n",
    "    plt.plot(exp.turbflux, exp.zm, \n",
    "             label=r\"$-\\langle \\overline{w'u'} \\rangle$\", \n",
    "             linewidth=1, linestyle=\":\", color='xkcd:light brown')\n",
    "    \n",
    "    # forcing label\n",
    "    plt.annotate(\"$\\hat F$\", xy=(exp.totstress[3], exp.zm[int(exp.zmax_index/2)+3]), xycoords='data', \n",
    "                 xytext=(0, 0), textcoords='offset points', color=exp.color)\n",
    "    # drag label\n",
    "    plt.annotate(\"$\\hat D$\", xy=(exp.drag[int(exp.zh_index + 1)], exp.zm[int(exp.zh_index + 5)]), xycoords='data', \n",
    "                 xytext=(0, 0), textcoords='offset points', color=exp.color)\n",
    "    # flux label\n",
    "    plt.annotate(r\"$\\tau$\", \n",
    "                 xy=(exp.turbflux[50], exp.zm[-1]/3), xycoords='data', \n",
    "                 xytext=(0, 0), textcoords='offset points', color=exp.color)\n",
    "\n",
    "    # dispersive flux\n",
    "    plt.plot(exp.dispflux, exp.zm, \n",
    "             label=r\"$-\\langle \\bar{w}''\\bar{u}'' \\rangle$\", \n",
    "             linewidth=1, linestyle=\"--\", color='xkcd:greyish purple')\n",
    "    # SGS flux\n",
    "    plt.plot(exp.viscflux, exp.zm, \n",
    "             label=r'$\\nu_{SGS} \\frac{\\partial \\langle \\bar{u} \\rangle}{\\partial z}$', \n",
    "             linestyle=\"-.\", linewidth=0.6, color='xkcd:grey green')\n",
    "    \n",
    "    # z_max\n",
    "    plt.axhline(y=exp.zmax, linewidth=0.5, color='grey')\n",
    "    if not exp.zmax == exp.zh:\n",
    "        plt.annotate(r\"$z_{\\max}$\", xy=(0, exp.zmax/exp.zsize), xycoords='axes fraction', \n",
    "                 xytext=(-21, 10), textcoords='offset points', color='grey')\n",
    "    # z_h\n",
    "    plt.axhline(y=exp.zh, linewidth=0.5,  color=\"grey\")\n",
    "    plt.annotate(r\"$z_H$\", xy=(0, exp.zh/exp.zsize), xycoords='axes fraction', \n",
    "                 xytext=(-21, 0), textcoords='offset points', color='grey')\n",
    "\n",
    "    plt.legend(fontsize='small', labelspacing=0.5)\n",
    "    plt.xlabel(r\"Fluxes, drag, stress [m$^2$/s$^2$]\")\n",
    "    plt.ylabel('Height z [m]')\n",
    "    plt.title(\"Integrated forces\")\n",
    "    \n",
    "    plt.suptitle(\"%s\" % exp.reference )\n",
    "    plt.tight_layout()\n",
    "    plt.subplots_adjust(top=0.88)\n",
    "    plt.show()    \n",
    "    "
   ]
  },
  {
   "cell_type": "markdown",
   "metadata": {},
   "source": [
    "[Back to Contents](#Contents)\n",
    "## Mean velocity profiles"
   ]
  },
  {
   "cell_type": "code",
   "execution_count": null,
   "metadata": {},
   "outputs": [],
   "source": [
    "plt.figure()\n",
    "i = 0\n",
    "for exp in exps:\n",
    "    plt.plot(exp.uav, exp.zt, label=exp.reference, color=exp.color, marker=exp.marker, markevery=100 + i)\n",
    "    i += 10\n",
    "plt.legend()\n",
    "plt.xlabel(r\"Wind speed $\\langle \\bar u \\rangle(z)$ [m/s]\")\n",
    "plt.ylabel('Height z [m]')\n",
    "plt.title(\"Mean wind profiles\")\n",
    "plt.show()\n",
    "for exp in exps:\n",
    "    dzs = np.gradient(exp.zt)\n",
    "    print(exp.reference, \"height average:\", np.sum(exp.uav*dzs)/exp.zsize)\n"
   ]
  },
  {
   "cell_type": "markdown",
   "metadata": {},
   "source": [
    "[Back to Contents](#Contents)\n",
    "## Total momentum fluxes"
   ]
  },
  {
   "cell_type": "code",
   "execution_count": null,
   "metadata": {},
   "outputs": [],
   "source": [
    "#total fluxes CSA\n",
    "plt.figure()\n",
    "i = 0\n",
    "for exp in exps:\n",
    "    i += 5\n",
    "    plt.plot(exp.totflux, exp.zm, label=exp.reference, color=exp.color, marker=exp.marker, markevery=[1, 100 + i])\n",
    "    plt.plot(exp.totstress[:exp.zmax_index+3], exp.zm[:exp.zmax_index+3], \n",
    "             color=exp.color, linestyle=\"--\", linewidth=0.5,\n",
    "             marker=exp.marker, markevery=[1])\n",
    "plt.legend()\n",
    "plt.title(\"Total vertical momentum fluxes\")\n",
    "plt.xlabel(r\"Flux $\\tau(z)$ [m$^2$/s$^2$]\")\n",
    "plt.ylabel('Height z [m]')\n",
    "plt.show()"
   ]
  },
  {
   "cell_type": "markdown",
   "metadata": {},
   "source": [
    "[Back to Contents](#Contents)\n",
    "## Drag"
   ]
  },
  {
   "cell_type": "code",
   "execution_count": null,
   "metadata": {},
   "outputs": [],
   "source": [
    "plt.figure()\n",
    "i = 0\n",
    "for exp in exps:\n",
    "    i += 5\n",
    "    plt.plot(exp.drag, exp.zm, label=exp.reference, color=exp.color, marker=exp.marker, markevery=[0])\n",
    "    plt.plot(exp.totstress, exp.zm, label='_nolegend_', color=exp.color, linestyle=\"--\", linewidth=0.5, marker=exp.marker, markevery=[1])\n",
    "plt.legend()\n",
    "plt.title(\"Drag\")\n",
    "plt.xlabel(\"Integrated drag $\\hat D(z)$ [m$^2$/s$^2$]\")\n",
    "plt.ylabel('Height z [m]')\n",
    "plt.show()"
   ]
  },
  {
   "cell_type": "markdown",
   "metadata": {},
   "source": [
    "[Back to Contents](#Contents)\n",
    "## Vertical profiles"
   ]
  },
  {
   "cell_type": "markdown",
   "metadata": {},
   "source": [
    "##### Print available variables"
   ]
  },
  {
   "cell_type": "code",
   "execution_count": null,
   "metadata": {},
   "outputs": [],
   "source": [
    "for exp in exps:\n",
    "    # all available variables\n",
    "    ncvariables = []  # list with nc variables\n",
    "    ncvarnames = []  # list with names of variables in exp.data\n",
    "    for name, variable in exp.data.items():\n",
    "        if isinstance(variable, (netCDF4._netCDF4.Variable)):\n",
    "            ncvariables.append(variable)\n",
    "            ncvarnames.append(name)\n",
    "    \n",
    "    # print only 1D vertical profile variables:\n",
    "    verticalaxes = ['zt', 'zm']\n",
    "    ncfields1D = []\n",
    "    ncfields1Dnames = []\n",
    "#     for variable in ncvariables:\n",
    "    for name in ncvarnames:\n",
    "        variable = exp.data[name]\n",
    "        if any(axis in verticalaxes for axis in variable.dimensions):\n",
    "            if variable.ndim < 3:  # only time and z dimensions\n",
    "                if not variable.name in verticalaxes:  # do not print axis variables themselves\n",
    "                    ncfields1D.append(variable)\n",
    "                    ncfields1Dnames.append(name)\n",
    "    print(exp.name, \"Available 1D  vertical profile variables:\\n\", sorted(ncfields1Dnames), \"\\n\")"
   ]
  },
  {
   "cell_type": "markdown",
   "metadata": {},
   "source": [
    "### Any 1D quantity"
   ]
  },
  {
   "cell_type": "code",
   "execution_count": null,
   "metadata": {},
   "outputs": [],
   "source": [
    "var = 'wpwp'\n",
    "zaxis = exp.data[var].dimensions[1]\n",
    "\n",
    "for exp in exps:\n",
    "    plt.figure()\n",
    "    plt.plot(exp.data[var][-1, :], exp.data[zaxis], label=exp.reference, color=exp.color, marker=exp.marker, markevery=[1])\n",
    "    plt.legend()\n",
    "    plt.ylabel(zaxis)\n",
    "    plt.xlabel(var)\n",
    "    plt.show()"
   ]
  },
  {
   "cell_type": "markdown",
   "metadata": {},
   "source": [
    "[Back to Contents](#Contents)\n",
    "## Field plots"
   ]
  },
  {
   "cell_type": "markdown",
   "metadata": {},
   "source": [
    "#### Print available fields for field plots"
   ]
  },
  {
   "cell_type": "code",
   "execution_count": null,
   "metadata": {},
   "outputs": [],
   "source": [
    "for exp in exps:\n",
    "    # all available variables\n",
    "    ncvarnames = []  # list with names of variables in exp.data\n",
    "    for name, variable in exp.data.items():\n",
    "        if isinstance(variable, (netCDF4._netCDF4.Variable)):\n",
    "            ncvarnames.append(name)    \n",
    "            \n",
    "    # print only 3D field variables:\n",
    "    fieldaxes = ['xt', 'xm', 'yt', 'ym']\n",
    "    ncfields3D = []\n",
    "    ncfields3Dnames = []\n",
    "    for name in ncvarnames:\n",
    "        variable = exp.data[name]\n",
    "        if any(axis in fieldaxes for axis in variable.dimensions):\n",
    "            if not variable.name in fieldaxes:  # do not print axis variables themselves\n",
    "                ncfields3D.append(variable)\n",
    "                ncfields3Dnames.append(name)\n",
    "    print(exp.name, \"Available 2D or 3D fields:\\n\", sorted(ncfields3Dnames), \"\\n\")\n",
    "#     print(exp.name, \"Available 2D or 3D fields:\\n\", ncfields3D, \"\\n\")"
   ]
  },
  {
   "cell_type": "markdown",
   "metadata": {},
   "source": [
    "### Field plot"
   ]
  },
  {
   "cell_type": "code",
   "execution_count": null,
   "metadata": {},
   "outputs": [],
   "source": [
    "# define field variable\n",
    "varname = 'ut'\n",
    "# define positions for field plot\n",
    "tpos = -1\n",
    "spos = 25\n",
    "# define fixed axis for field plot\n",
    "fix = 'yaxis'\n",
    "# define plot limits\n",
    "# limits=[0, 60, 0, 40]\n",
    "limits=None\n",
    "# define a colour map\n",
    "cbarmap = plt.cm.get_cmap('RdYlBu_r')\n",
    "\n",
    "for exp in exps:   \n",
    "    field = da.plot.prepare_fielddata(exp, varname, \n",
    "                                      fix, spos, tpos, \n",
    "                                      limits)\n",
    "\n",
    "    field = da.plot.prepare_contourplot(field, cbarmap, \n",
    "                                        cbartype='centered')\n",
    "#     field.block_opts = {'facecolor' : \"none\", 'edgecolor' : 'k'}\n",
    "    field.block_opts = {'facecolor' : \"w\", 'edgecolor' : 'w'}\n",
    "#     plt.figure()\n",
    "#     da.plot.contourfield(field)\n",
    "#     plt.tight_layout()\n",
    "#     plt.show()\n",
    "    field = da.plot.prepare_layoutplot(field)\n",
    "    da.plot.layout_fieldplot(field)"
   ]
  },
  {
   "cell_type": "markdown",
   "metadata": {},
   "source": [
    "[Back to Contents](#Contents)\n",
    "### Quiver and wind speed plot"
   ]
  },
  {
   "cell_type": "code",
   "execution_count": null,
   "metadata": {},
   "outputs": [],
   "source": [
    "# define wind variables\n",
    "var1 = 'ut'\n",
    "var2 = 'vt'\n",
    "var3 = 'wt'\n",
    "# define positions for field plot\n",
    "tpos = -1\n",
    "spos = 25\n",
    "# define fixed axis for field plot\n",
    "fix = 'yaxis'\n",
    "# define plot limits\n",
    "# limits=[0, 100, 0, 100]\n",
    "limits=None\n",
    "sparse=5\n",
    "# define colour map\n",
    "# cbarmap = plt.cm.get_cmap('YlOrRd')\n",
    "cbarmap = plt.cm.get_cmap('RdYlBu_r')\n",
    "\n",
    "for exp in exps:    \n",
    "    field = da.plot.prepare_quiverplot(exp, var1, var2, var3, fix,\n",
    "                               spos, tpos, limits, sparse)\n",
    "    \n",
    "    field = da.plot.prepare_contourplot(field, cbarmap)  \n",
    "    \n",
    "    field = da.plot.prepare_layoutplot(field)\n",
    "\n",
    "    da.plot.layout_fieldplot(field, quiver=True)"
   ]
  },
  {
   "cell_type": "markdown",
   "metadata": {},
   "source": [
    "[Back to Contents](#Contents)"
   ]
  }
 ],
 "metadata": {
  "kernelspec": {
   "display_name": "Python 3",
   "language": "python",
   "name": "python3"
  },
  "language_info": {
   "codemirror_mode": {
    "name": "ipython",
    "version": 3
   },
   "file_extension": ".py",
   "mimetype": "text/x-python",
   "name": "python",
   "nbconvert_exporter": "python",
   "pygments_lexer": "ipython3",
   "version": "3.6.4"
  }
 },
 "nbformat": 4,
 "nbformat_minor": 2
}
